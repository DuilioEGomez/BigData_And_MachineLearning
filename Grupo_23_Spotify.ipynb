{
  "nbformat": 4,
  "nbformat_minor": 0,
  "metadata": {
    "colab": {
      "provenance": [],
      "include_colab_link": true
    },
    "kernelspec": {
      "name": "python3",
      "display_name": "Python 3"
    },
    "language_info": {
      "name": "python"
    }
  },
  "cells": [
    {
      "cell_type": "markdown",
      "metadata": {
        "id": "view-in-github",
        "colab_type": "text"
      },
      "source": [
        "<a href=\"https://colab.research.google.com/github/DuilioEGomez/BigData_And_MachineLearning/blob/main/Grupo_23_Spotify.ipynb\" target=\"_parent\"><img src=\"https://colab.research.google.com/assets/colab-badge.svg\" alt=\"Open In Colab\"/></a>"
      ]
    },
    {
      "cell_type": "markdown",
      "source": [
        "UPSO 2023 - Machine Learning & Big Data - Grupo 23 - Gálvez, Juan Manuel Ignacio - Gómez, Duilio Enrique - Munuce, Juan José."
      ],
      "metadata": {
        "id": "9SsCWSPRvDTC"
      }
    },
    {
      "cell_type": "markdown",
      "source": [
        "En el cuaderno se incluyen las métricas Precision, Recall y F1 Score, ademas se graficaron las matrices de confusión de los modelos KNN, SVM, Decision Tree y Naive Bayes en un solo plot, también se grafica la matriz de confusión y sus métricas del Ensamble, luego se hizo un plot con los 4 modelos KNN, SVM ( Version GRID SEARCH y RANDOM SEARCH ), Decision Tree y Naive Bayes con los hiperparametros ajustados con Random Search y o Grid Search sin olvidar sus métricas Precision, Recall, F1 Score y Naive Bayes y por ultimo para una mejor análisis se grafican en Barras de colores todas las métricas en 3 plots: Precision, Recall y F1 Score."
      ],
      "metadata": {
        "id": "zNQmnI4m_8vq"
      }
    },
    {
      "cell_type": "code",
      "source": [
        "from google.colab import drive\n",
        "drive.mount('/content/drive')"
      ],
      "metadata": {
        "colab": {
          "base_uri": "https://localhost:8080/"
        },
        "id": "vojHnlZhe9uU",
        "outputId": "3251784f-290a-4547-fc75-252c17d66ee6"
      },
      "execution_count": 155,
      "outputs": [
        {
          "output_type": "stream",
          "name": "stdout",
          "text": [
            "Drive already mounted at /content/drive; to attempt to forcibly remount, call drive.mount(\"/content/drive\", force_remount=True).\n"
          ]
        }
      ]
    },
    {
      "cell_type": "markdown",
      "source": [
        "* Se Importan las librerias y modulos necesarios."
      ],
      "metadata": {
        "id": "v337jIruKV3q"
      }
    },
    {
      "cell_type": "code",
      "source": [
        "import pandas as pd\n",
        "import numpy as np\n",
        "import matplotlib.pyplot as plt\n",
        "import plotly.express as px\n",
        "import seaborn as sns\n",
        "from sklearn import metrics\n",
        "from sklearn.model_selection import train_test_split, cross_val_score, GridSearchCV, RandomizedSearchCV\n",
        "from sklearn.preprocessing import StandardScaler\n",
        "from sklearn.neighbors import KNeighborsClassifier\n",
        "from sklearn.svm import SVC\n",
        "from sklearn.tree import DecisionTreeClassifier\n",
        "from sklearn.naive_bayes import GaussianNB\n",
        "from sklearn.ensemble import VotingClassifier\n",
        "from sklearn.metrics import confusion_matrix, accuracy_score, precision_score, recall_score, f1_score, classification_report\n",
        "from sklearn.model_selection import RandomizedSearchCV\n",
        "from sklearn.tree import DecisionTreeClassifier\n",
        "from scipy.stats import uniform"
      ],
      "metadata": {
        "id": "k3mHCuj4qm2G"
      },
      "execution_count": 156,
      "outputs": []
    },
    {
      "cell_type": "code",
      "source": [],
      "metadata": {
        "id": "q3lhO7wHw2H3"
      },
      "execution_count": 156,
      "outputs": []
    },
    {
      "cell_type": "markdown",
      "source": [
        "Se descarga el archivo CSV, se crea el Dataframe a partir de dicho archivo."
      ],
      "metadata": {
        "id": "KjJy_Rq9QNpG"
      }
    },
    {
      "cell_type": "code",
      "source": [
        "url_csv = \"/content/drive/MyDrive/Colab Notebooks/Canciones_Spotify.csv\"\n",
        "df_spotify = pd.read_csv(url_csv)"
      ],
      "metadata": {
        "id": "DYyWFwFUe_GW"
      },
      "execution_count": 157,
      "outputs": []
    },
    {
      "cell_type": "markdown",
      "source": [
        "Se elimina la columna \"loudness\" del dataframe ya que posee numeros negativos y no es relevante al proyecto."
      ],
      "metadata": {
        "id": "AzBkbGZDQhDX"
      }
    },
    {
      "cell_type": "code",
      "source": [
        "df_spotify.drop(\"loudness\", axis=1, inplace=True)"
      ],
      "metadata": {
        "id": "2FFJU9owKnhp"
      },
      "execution_count": 158,
      "outputs": []
    },
    {
      "cell_type": "markdown",
      "source": [
        "Se ve el Dataframe que vamos a utilizar."
      ],
      "metadata": {
        "id": "2v8IP-pnQwb_"
      }
    },
    {
      "cell_type": "code",
      "source": [
        "df_spotify"
      ],
      "metadata": {
        "colab": {
          "base_uri": "https://localhost:8080/",
          "height": 704
        },
        "id": "x-y9i-S_JNUV",
        "outputId": "4e2625df-e8f1-4c25-ef2e-0e807c38d0e5"
      },
      "execution_count": 159,
      "outputs": [
        {
          "output_type": "execute_result",
          "data": {
            "text/plain": [
              "      Unnamed: 0  acousticness  danceability  duration_ms  energy  \\\n",
              "0              0       0.01020         0.833       204600   0.434   \n",
              "1              1       0.19900         0.743       326933   0.359   \n",
              "2              2       0.03440         0.838       185707   0.412   \n",
              "3              3       0.60400         0.494       199413   0.338   \n",
              "4              4       0.18000         0.678       392893   0.561   \n",
              "...          ...           ...           ...          ...     ...   \n",
              "2012        2012       0.00106         0.584       274404   0.932   \n",
              "2013        2013       0.08770         0.894       182182   0.892   \n",
              "2014        2014       0.00857         0.637       207200   0.935   \n",
              "2015        2015       0.00164         0.557       185600   0.992   \n",
              "2016        2016       0.00281         0.446       204520   0.915   \n",
              "\n",
              "      instrumentalness  key  liveness  mode  speechiness    tempo  \\\n",
              "0             0.021900    2    0.1650     1       0.4310  150.062   \n",
              "1             0.006110    1    0.1370     1       0.0794  160.083   \n",
              "2             0.000234    2    0.1590     1       0.2890   75.044   \n",
              "3             0.510000    5    0.0922     1       0.0261   86.468   \n",
              "4             0.512000    5    0.4390     0       0.0694  174.004   \n",
              "...                ...  ...       ...   ...          ...      ...   \n",
              "2012          0.002690    1    0.1290     1       0.3330   74.976   \n",
              "2013          0.001670    1    0.0528     1       0.1310  110.041   \n",
              "2014          0.003990    0    0.2140     1       0.1070  150.082   \n",
              "2015          0.677000    1    0.0913     1       0.1330  150.011   \n",
              "2016          0.000039    9    0.2180     1       0.1410  190.013   \n",
              "\n",
              "      time_signature  valence  target                            song_title  \\\n",
              "0                4.0    0.286       1                              Mask Off   \n",
              "1                4.0    0.588       1                               Redbone   \n",
              "2                4.0    0.173       1                          Xanny Family   \n",
              "3                4.0    0.230       1                        Master Of None   \n",
              "4                4.0    0.904       1                        Parallel Lines   \n",
              "...              ...      ...     ...                                   ...   \n",
              "2012             4.0    0.211       0   Like A Bitch - Kill The Noise Remix   \n",
              "2013             4.0    0.867       0                                 Candy   \n",
              "2014             4.0    0.470       0  Habit - Dack Janiels & Wenzday Remix   \n",
              "2015             4.0    0.623       0                         First Contact   \n",
              "2016             4.0    0.402       0                    I Wanna Get Better   \n",
              "\n",
              "                artist  \n",
              "0               Future  \n",
              "1     Childish Gambino  \n",
              "2               Future  \n",
              "3          Beach House  \n",
              "4          Junior Boys  \n",
              "...                ...  \n",
              "2012    Kill The Noise  \n",
              "2013    Dillon Francis  \n",
              "2014          Rain Man  \n",
              "2015        Twin Moons  \n",
              "2016         Bleachers  \n",
              "\n",
              "[2017 rows x 16 columns]"
            ],
            "text/html": [
              "\n",
              "  <div id=\"df-4051f3b8-d647-48f2-a752-f7655a45cef8\" class=\"colab-df-container\">\n",
              "    <div>\n",
              "<style scoped>\n",
              "    .dataframe tbody tr th:only-of-type {\n",
              "        vertical-align: middle;\n",
              "    }\n",
              "\n",
              "    .dataframe tbody tr th {\n",
              "        vertical-align: top;\n",
              "    }\n",
              "\n",
              "    .dataframe thead th {\n",
              "        text-align: right;\n",
              "    }\n",
              "</style>\n",
              "<table border=\"1\" class=\"dataframe\">\n",
              "  <thead>\n",
              "    <tr style=\"text-align: right;\">\n",
              "      <th></th>\n",
              "      <th>Unnamed: 0</th>\n",
              "      <th>acousticness</th>\n",
              "      <th>danceability</th>\n",
              "      <th>duration_ms</th>\n",
              "      <th>energy</th>\n",
              "      <th>instrumentalness</th>\n",
              "      <th>key</th>\n",
              "      <th>liveness</th>\n",
              "      <th>mode</th>\n",
              "      <th>speechiness</th>\n",
              "      <th>tempo</th>\n",
              "      <th>time_signature</th>\n",
              "      <th>valence</th>\n",
              "      <th>target</th>\n",
              "      <th>song_title</th>\n",
              "      <th>artist</th>\n",
              "    </tr>\n",
              "  </thead>\n",
              "  <tbody>\n",
              "    <tr>\n",
              "      <th>0</th>\n",
              "      <td>0</td>\n",
              "      <td>0.01020</td>\n",
              "      <td>0.833</td>\n",
              "      <td>204600</td>\n",
              "      <td>0.434</td>\n",
              "      <td>0.021900</td>\n",
              "      <td>2</td>\n",
              "      <td>0.1650</td>\n",
              "      <td>1</td>\n",
              "      <td>0.4310</td>\n",
              "      <td>150.062</td>\n",
              "      <td>4.0</td>\n",
              "      <td>0.286</td>\n",
              "      <td>1</td>\n",
              "      <td>Mask Off</td>\n",
              "      <td>Future</td>\n",
              "    </tr>\n",
              "    <tr>\n",
              "      <th>1</th>\n",
              "      <td>1</td>\n",
              "      <td>0.19900</td>\n",
              "      <td>0.743</td>\n",
              "      <td>326933</td>\n",
              "      <td>0.359</td>\n",
              "      <td>0.006110</td>\n",
              "      <td>1</td>\n",
              "      <td>0.1370</td>\n",
              "      <td>1</td>\n",
              "      <td>0.0794</td>\n",
              "      <td>160.083</td>\n",
              "      <td>4.0</td>\n",
              "      <td>0.588</td>\n",
              "      <td>1</td>\n",
              "      <td>Redbone</td>\n",
              "      <td>Childish Gambino</td>\n",
              "    </tr>\n",
              "    <tr>\n",
              "      <th>2</th>\n",
              "      <td>2</td>\n",
              "      <td>0.03440</td>\n",
              "      <td>0.838</td>\n",
              "      <td>185707</td>\n",
              "      <td>0.412</td>\n",
              "      <td>0.000234</td>\n",
              "      <td>2</td>\n",
              "      <td>0.1590</td>\n",
              "      <td>1</td>\n",
              "      <td>0.2890</td>\n",
              "      <td>75.044</td>\n",
              "      <td>4.0</td>\n",
              "      <td>0.173</td>\n",
              "      <td>1</td>\n",
              "      <td>Xanny Family</td>\n",
              "      <td>Future</td>\n",
              "    </tr>\n",
              "    <tr>\n",
              "      <th>3</th>\n",
              "      <td>3</td>\n",
              "      <td>0.60400</td>\n",
              "      <td>0.494</td>\n",
              "      <td>199413</td>\n",
              "      <td>0.338</td>\n",
              "      <td>0.510000</td>\n",
              "      <td>5</td>\n",
              "      <td>0.0922</td>\n",
              "      <td>1</td>\n",
              "      <td>0.0261</td>\n",
              "      <td>86.468</td>\n",
              "      <td>4.0</td>\n",
              "      <td>0.230</td>\n",
              "      <td>1</td>\n",
              "      <td>Master Of None</td>\n",
              "      <td>Beach House</td>\n",
              "    </tr>\n",
              "    <tr>\n",
              "      <th>4</th>\n",
              "      <td>4</td>\n",
              "      <td>0.18000</td>\n",
              "      <td>0.678</td>\n",
              "      <td>392893</td>\n",
              "      <td>0.561</td>\n",
              "      <td>0.512000</td>\n",
              "      <td>5</td>\n",
              "      <td>0.4390</td>\n",
              "      <td>0</td>\n",
              "      <td>0.0694</td>\n",
              "      <td>174.004</td>\n",
              "      <td>4.0</td>\n",
              "      <td>0.904</td>\n",
              "      <td>1</td>\n",
              "      <td>Parallel Lines</td>\n",
              "      <td>Junior Boys</td>\n",
              "    </tr>\n",
              "    <tr>\n",
              "      <th>...</th>\n",
              "      <td>...</td>\n",
              "      <td>...</td>\n",
              "      <td>...</td>\n",
              "      <td>...</td>\n",
              "      <td>...</td>\n",
              "      <td>...</td>\n",
              "      <td>...</td>\n",
              "      <td>...</td>\n",
              "      <td>...</td>\n",
              "      <td>...</td>\n",
              "      <td>...</td>\n",
              "      <td>...</td>\n",
              "      <td>...</td>\n",
              "      <td>...</td>\n",
              "      <td>...</td>\n",
              "      <td>...</td>\n",
              "    </tr>\n",
              "    <tr>\n",
              "      <th>2012</th>\n",
              "      <td>2012</td>\n",
              "      <td>0.00106</td>\n",
              "      <td>0.584</td>\n",
              "      <td>274404</td>\n",
              "      <td>0.932</td>\n",
              "      <td>0.002690</td>\n",
              "      <td>1</td>\n",
              "      <td>0.1290</td>\n",
              "      <td>1</td>\n",
              "      <td>0.3330</td>\n",
              "      <td>74.976</td>\n",
              "      <td>4.0</td>\n",
              "      <td>0.211</td>\n",
              "      <td>0</td>\n",
              "      <td>Like A Bitch - Kill The Noise Remix</td>\n",
              "      <td>Kill The Noise</td>\n",
              "    </tr>\n",
              "    <tr>\n",
              "      <th>2013</th>\n",
              "      <td>2013</td>\n",
              "      <td>0.08770</td>\n",
              "      <td>0.894</td>\n",
              "      <td>182182</td>\n",
              "      <td>0.892</td>\n",
              "      <td>0.001670</td>\n",
              "      <td>1</td>\n",
              "      <td>0.0528</td>\n",
              "      <td>1</td>\n",
              "      <td>0.1310</td>\n",
              "      <td>110.041</td>\n",
              "      <td>4.0</td>\n",
              "      <td>0.867</td>\n",
              "      <td>0</td>\n",
              "      <td>Candy</td>\n",
              "      <td>Dillon Francis</td>\n",
              "    </tr>\n",
              "    <tr>\n",
              "      <th>2014</th>\n",
              "      <td>2014</td>\n",
              "      <td>0.00857</td>\n",
              "      <td>0.637</td>\n",
              "      <td>207200</td>\n",
              "      <td>0.935</td>\n",
              "      <td>0.003990</td>\n",
              "      <td>0</td>\n",
              "      <td>0.2140</td>\n",
              "      <td>1</td>\n",
              "      <td>0.1070</td>\n",
              "      <td>150.082</td>\n",
              "      <td>4.0</td>\n",
              "      <td>0.470</td>\n",
              "      <td>0</td>\n",
              "      <td>Habit - Dack Janiels &amp; Wenzday Remix</td>\n",
              "      <td>Rain Man</td>\n",
              "    </tr>\n",
              "    <tr>\n",
              "      <th>2015</th>\n",
              "      <td>2015</td>\n",
              "      <td>0.00164</td>\n",
              "      <td>0.557</td>\n",
              "      <td>185600</td>\n",
              "      <td>0.992</td>\n",
              "      <td>0.677000</td>\n",
              "      <td>1</td>\n",
              "      <td>0.0913</td>\n",
              "      <td>1</td>\n",
              "      <td>0.1330</td>\n",
              "      <td>150.011</td>\n",
              "      <td>4.0</td>\n",
              "      <td>0.623</td>\n",
              "      <td>0</td>\n",
              "      <td>First Contact</td>\n",
              "      <td>Twin Moons</td>\n",
              "    </tr>\n",
              "    <tr>\n",
              "      <th>2016</th>\n",
              "      <td>2016</td>\n",
              "      <td>0.00281</td>\n",
              "      <td>0.446</td>\n",
              "      <td>204520</td>\n",
              "      <td>0.915</td>\n",
              "      <td>0.000039</td>\n",
              "      <td>9</td>\n",
              "      <td>0.2180</td>\n",
              "      <td>1</td>\n",
              "      <td>0.1410</td>\n",
              "      <td>190.013</td>\n",
              "      <td>4.0</td>\n",
              "      <td>0.402</td>\n",
              "      <td>0</td>\n",
              "      <td>I Wanna Get Better</td>\n",
              "      <td>Bleachers</td>\n",
              "    </tr>\n",
              "  </tbody>\n",
              "</table>\n",
              "<p>2017 rows × 16 columns</p>\n",
              "</div>\n",
              "    <div class=\"colab-df-buttons\">\n",
              "\n",
              "  <div class=\"colab-df-container\">\n",
              "    <button class=\"colab-df-convert\" onclick=\"convertToInteractive('df-4051f3b8-d647-48f2-a752-f7655a45cef8')\"\n",
              "            title=\"Convert this dataframe to an interactive table.\"\n",
              "            style=\"display:none;\">\n",
              "\n",
              "  <svg xmlns=\"http://www.w3.org/2000/svg\" height=\"24px\" viewBox=\"0 -960 960 960\">\n",
              "    <path d=\"M120-120v-720h720v720H120Zm60-500h600v-160H180v160Zm220 220h160v-160H400v160Zm0 220h160v-160H400v160ZM180-400h160v-160H180v160Zm440 0h160v-160H620v160ZM180-180h160v-160H180v160Zm440 0h160v-160H620v160Z\"/>\n",
              "  </svg>\n",
              "    </button>\n",
              "\n",
              "  <style>\n",
              "    .colab-df-container {\n",
              "      display:flex;\n",
              "      gap: 12px;\n",
              "    }\n",
              "\n",
              "    .colab-df-convert {\n",
              "      background-color: #E8F0FE;\n",
              "      border: none;\n",
              "      border-radius: 50%;\n",
              "      cursor: pointer;\n",
              "      display: none;\n",
              "      fill: #1967D2;\n",
              "      height: 32px;\n",
              "      padding: 0 0 0 0;\n",
              "      width: 32px;\n",
              "    }\n",
              "\n",
              "    .colab-df-convert:hover {\n",
              "      background-color: #E2EBFA;\n",
              "      box-shadow: 0px 1px 2px rgba(60, 64, 67, 0.3), 0px 1px 3px 1px rgba(60, 64, 67, 0.15);\n",
              "      fill: #174EA6;\n",
              "    }\n",
              "\n",
              "    .colab-df-buttons div {\n",
              "      margin-bottom: 4px;\n",
              "    }\n",
              "\n",
              "    [theme=dark] .colab-df-convert {\n",
              "      background-color: #3B4455;\n",
              "      fill: #D2E3FC;\n",
              "    }\n",
              "\n",
              "    [theme=dark] .colab-df-convert:hover {\n",
              "      background-color: #434B5C;\n",
              "      box-shadow: 0px 1px 3px 1px rgba(0, 0, 0, 0.15);\n",
              "      filter: drop-shadow(0px 1px 2px rgba(0, 0, 0, 0.3));\n",
              "      fill: #FFFFFF;\n",
              "    }\n",
              "  </style>\n",
              "\n",
              "    <script>\n",
              "      const buttonEl =\n",
              "        document.querySelector('#df-4051f3b8-d647-48f2-a752-f7655a45cef8 button.colab-df-convert');\n",
              "      buttonEl.style.display =\n",
              "        google.colab.kernel.accessAllowed ? 'block' : 'none';\n",
              "\n",
              "      async function convertToInteractive(key) {\n",
              "        const element = document.querySelector('#df-4051f3b8-d647-48f2-a752-f7655a45cef8');\n",
              "        const dataTable =\n",
              "          await google.colab.kernel.invokeFunction('convertToInteractive',\n",
              "                                                    [key], {});\n",
              "        if (!dataTable) return;\n",
              "\n",
              "        const docLinkHtml = 'Like what you see? Visit the ' +\n",
              "          '<a target=\"_blank\" href=https://colab.research.google.com/notebooks/data_table.ipynb>data table notebook</a>'\n",
              "          + ' to learn more about interactive tables.';\n",
              "        element.innerHTML = '';\n",
              "        dataTable['output_type'] = 'display_data';\n",
              "        await google.colab.output.renderOutput(dataTable, element);\n",
              "        const docLink = document.createElement('div');\n",
              "        docLink.innerHTML = docLinkHtml;\n",
              "        element.appendChild(docLink);\n",
              "      }\n",
              "    </script>\n",
              "  </div>\n",
              "\n",
              "\n",
              "<div id=\"df-95729b4e-eb96-4b72-a6e2-1da9ca0a9d52\">\n",
              "  <button class=\"colab-df-quickchart\" onclick=\"quickchart('df-95729b4e-eb96-4b72-a6e2-1da9ca0a9d52')\"\n",
              "            title=\"Suggest charts\"\n",
              "            style=\"display:none;\">\n",
              "\n",
              "<svg xmlns=\"http://www.w3.org/2000/svg\" height=\"24px\"viewBox=\"0 0 24 24\"\n",
              "     width=\"24px\">\n",
              "    <g>\n",
              "        <path d=\"M19 3H5c-1.1 0-2 .9-2 2v14c0 1.1.9 2 2 2h14c1.1 0 2-.9 2-2V5c0-1.1-.9-2-2-2zM9 17H7v-7h2v7zm4 0h-2V7h2v10zm4 0h-2v-4h2v4z\"/>\n",
              "    </g>\n",
              "</svg>\n",
              "  </button>\n",
              "\n",
              "<style>\n",
              "  .colab-df-quickchart {\n",
              "      --bg-color: #E8F0FE;\n",
              "      --fill-color: #1967D2;\n",
              "      --hover-bg-color: #E2EBFA;\n",
              "      --hover-fill-color: #174EA6;\n",
              "      --disabled-fill-color: #AAA;\n",
              "      --disabled-bg-color: #DDD;\n",
              "  }\n",
              "\n",
              "  [theme=dark] .colab-df-quickchart {\n",
              "      --bg-color: #3B4455;\n",
              "      --fill-color: #D2E3FC;\n",
              "      --hover-bg-color: #434B5C;\n",
              "      --hover-fill-color: #FFFFFF;\n",
              "      --disabled-bg-color: #3B4455;\n",
              "      --disabled-fill-color: #666;\n",
              "  }\n",
              "\n",
              "  .colab-df-quickchart {\n",
              "    background-color: var(--bg-color);\n",
              "    border: none;\n",
              "    border-radius: 50%;\n",
              "    cursor: pointer;\n",
              "    display: none;\n",
              "    fill: var(--fill-color);\n",
              "    height: 32px;\n",
              "    padding: 0;\n",
              "    width: 32px;\n",
              "  }\n",
              "\n",
              "  .colab-df-quickchart:hover {\n",
              "    background-color: var(--hover-bg-color);\n",
              "    box-shadow: 0 1px 2px rgba(60, 64, 67, 0.3), 0 1px 3px 1px rgba(60, 64, 67, 0.15);\n",
              "    fill: var(--button-hover-fill-color);\n",
              "  }\n",
              "\n",
              "  .colab-df-quickchart-complete:disabled,\n",
              "  .colab-df-quickchart-complete:disabled:hover {\n",
              "    background-color: var(--disabled-bg-color);\n",
              "    fill: var(--disabled-fill-color);\n",
              "    box-shadow: none;\n",
              "  }\n",
              "\n",
              "  .colab-df-spinner {\n",
              "    border: 2px solid var(--fill-color);\n",
              "    border-color: transparent;\n",
              "    border-bottom-color: var(--fill-color);\n",
              "    animation:\n",
              "      spin 1s steps(1) infinite;\n",
              "  }\n",
              "\n",
              "  @keyframes spin {\n",
              "    0% {\n",
              "      border-color: transparent;\n",
              "      border-bottom-color: var(--fill-color);\n",
              "      border-left-color: var(--fill-color);\n",
              "    }\n",
              "    20% {\n",
              "      border-color: transparent;\n",
              "      border-left-color: var(--fill-color);\n",
              "      border-top-color: var(--fill-color);\n",
              "    }\n",
              "    30% {\n",
              "      border-color: transparent;\n",
              "      border-left-color: var(--fill-color);\n",
              "      border-top-color: var(--fill-color);\n",
              "      border-right-color: var(--fill-color);\n",
              "    }\n",
              "    40% {\n",
              "      border-color: transparent;\n",
              "      border-right-color: var(--fill-color);\n",
              "      border-top-color: var(--fill-color);\n",
              "    }\n",
              "    60% {\n",
              "      border-color: transparent;\n",
              "      border-right-color: var(--fill-color);\n",
              "    }\n",
              "    80% {\n",
              "      border-color: transparent;\n",
              "      border-right-color: var(--fill-color);\n",
              "      border-bottom-color: var(--fill-color);\n",
              "    }\n",
              "    90% {\n",
              "      border-color: transparent;\n",
              "      border-bottom-color: var(--fill-color);\n",
              "    }\n",
              "  }\n",
              "</style>\n",
              "\n",
              "  <script>\n",
              "    async function quickchart(key) {\n",
              "      const quickchartButtonEl =\n",
              "        document.querySelector('#' + key + ' button');\n",
              "      quickchartButtonEl.disabled = true;  // To prevent multiple clicks.\n",
              "      quickchartButtonEl.classList.add('colab-df-spinner');\n",
              "      try {\n",
              "        const charts = await google.colab.kernel.invokeFunction(\n",
              "            'suggestCharts', [key], {});\n",
              "      } catch (error) {\n",
              "        console.error('Error during call to suggestCharts:', error);\n",
              "      }\n",
              "      quickchartButtonEl.classList.remove('colab-df-spinner');\n",
              "      quickchartButtonEl.classList.add('colab-df-quickchart-complete');\n",
              "    }\n",
              "    (() => {\n",
              "      let quickchartButtonEl =\n",
              "        document.querySelector('#df-95729b4e-eb96-4b72-a6e2-1da9ca0a9d52 button');\n",
              "      quickchartButtonEl.style.display =\n",
              "        google.colab.kernel.accessAllowed ? 'block' : 'none';\n",
              "    })();\n",
              "  </script>\n",
              "</div>\n",
              "    </div>\n",
              "  </div>\n"
            ]
          },
          "metadata": {},
          "execution_count": 159
        }
      ]
    },
    {
      "cell_type": "markdown",
      "source": [
        "Se Dividen los datos en X e Y, en X iran las columnas que destacan a la hora de la preferencia de una cancion y en Y se carga el Target."
      ],
      "metadata": {
        "id": "iapASwJnQ3ex"
      }
    },
    {
      "cell_type": "code",
      "source": [
        "X = df_spotify[[\"acousticness\",\"danceability\",\"energy\",\"instrumentalness\",\"liveness\", \"speechiness\", \"tempo\",\"valence\"]]\n",
        "y = df_spotify['target']"
      ],
      "metadata": {
        "id": "eN2dfHX8qpL0"
      },
      "execution_count": 160,
      "outputs": []
    },
    {
      "cell_type": "markdown",
      "source": [
        "Se dividen los datos en conjuntos de entrenamiento \"train\" y prueba \"test\"."
      ],
      "metadata": {
        "id": "lIzIn2NgRTM9"
      }
    },
    {
      "cell_type": "code",
      "source": [
        "X_train, X_test, y_train, y_test = train_test_split(X, y, test_size=0.2, random_state=42)"
      ],
      "metadata": {
        "id": "x7qFgqzJqtQv"
      },
      "execution_count": 161,
      "outputs": []
    },
    {
      "cell_type": "markdown",
      "source": [
        "Se escala las caracteristicas, dependiendo el modelo."
      ],
      "metadata": {
        "id": "zapoCrsBRoSV"
      }
    },
    {
      "cell_type": "code",
      "source": [
        "scaler = StandardScaler()\n",
        "X_train = scaler.fit_transform(X_train)\n",
        "X_test = scaler.transform(X_test)"
      ],
      "metadata": {
        "id": "16gTtuoJqxqA"
      },
      "execution_count": 162,
      "outputs": []
    },
    {
      "cell_type": "markdown",
      "source": [
        "Se definen los modelos de clasificacion."
      ],
      "metadata": {
        "id": "ojr9ALOKR2LG"
      }
    },
    {
      "cell_type": "code",
      "source": [
        "knn = KNeighborsClassifier()\n",
        "svm = SVC()\n",
        "decision_tree = DecisionTreeClassifier()\n",
        "naive_bayes = GaussianNB()"
      ],
      "metadata": {
        "id": "-MM3ov1Zq1Hi"
      },
      "execution_count": 163,
      "outputs": []
    },
    {
      "cell_type": "markdown",
      "source": [
        "Se entrenan los modelos."
      ],
      "metadata": {
        "id": "rNiC4NVIR9GK"
      }
    },
    {
      "cell_type": "code",
      "source": [
        "knn.fit(X_train, y_train)\n",
        "svm.fit(X_train, y_train)\n",
        "decision_tree.fit(X_train, y_train)\n",
        "naive_bayes.fit(X_train, y_train)"
      ],
      "metadata": {
        "id": "cl7Bqysgq4hD",
        "colab": {
          "base_uri": "https://localhost:8080/",
          "height": 74
        },
        "outputId": "1a31b58f-7f55-4be2-dfa2-03602c8d51b0"
      },
      "execution_count": 164,
      "outputs": [
        {
          "output_type": "execute_result",
          "data": {
            "text/plain": [
              "GaussianNB()"
            ],
            "text/html": [
              "<style>#sk-container-id-18 {color: black;background-color: white;}#sk-container-id-18 pre{padding: 0;}#sk-container-id-18 div.sk-toggleable {background-color: white;}#sk-container-id-18 label.sk-toggleable__label {cursor: pointer;display: block;width: 100%;margin-bottom: 0;padding: 0.3em;box-sizing: border-box;text-align: center;}#sk-container-id-18 label.sk-toggleable__label-arrow:before {content: \"▸\";float: left;margin-right: 0.25em;color: #696969;}#sk-container-id-18 label.sk-toggleable__label-arrow:hover:before {color: black;}#sk-container-id-18 div.sk-estimator:hover label.sk-toggleable__label-arrow:before {color: black;}#sk-container-id-18 div.sk-toggleable__content {max-height: 0;max-width: 0;overflow: hidden;text-align: left;background-color: #f0f8ff;}#sk-container-id-18 div.sk-toggleable__content pre {margin: 0.2em;color: black;border-radius: 0.25em;background-color: #f0f8ff;}#sk-container-id-18 input.sk-toggleable__control:checked~div.sk-toggleable__content {max-height: 200px;max-width: 100%;overflow: auto;}#sk-container-id-18 input.sk-toggleable__control:checked~label.sk-toggleable__label-arrow:before {content: \"▾\";}#sk-container-id-18 div.sk-estimator input.sk-toggleable__control:checked~label.sk-toggleable__label {background-color: #d4ebff;}#sk-container-id-18 div.sk-label input.sk-toggleable__control:checked~label.sk-toggleable__label {background-color: #d4ebff;}#sk-container-id-18 input.sk-hidden--visually {border: 0;clip: rect(1px 1px 1px 1px);clip: rect(1px, 1px, 1px, 1px);height: 1px;margin: -1px;overflow: hidden;padding: 0;position: absolute;width: 1px;}#sk-container-id-18 div.sk-estimator {font-family: monospace;background-color: #f0f8ff;border: 1px dotted black;border-radius: 0.25em;box-sizing: border-box;margin-bottom: 0.5em;}#sk-container-id-18 div.sk-estimator:hover {background-color: #d4ebff;}#sk-container-id-18 div.sk-parallel-item::after {content: \"\";width: 100%;border-bottom: 1px solid gray;flex-grow: 1;}#sk-container-id-18 div.sk-label:hover label.sk-toggleable__label {background-color: #d4ebff;}#sk-container-id-18 div.sk-serial::before {content: \"\";position: absolute;border-left: 1px solid gray;box-sizing: border-box;top: 0;bottom: 0;left: 50%;z-index: 0;}#sk-container-id-18 div.sk-serial {display: flex;flex-direction: column;align-items: center;background-color: white;padding-right: 0.2em;padding-left: 0.2em;position: relative;}#sk-container-id-18 div.sk-item {position: relative;z-index: 1;}#sk-container-id-18 div.sk-parallel {display: flex;align-items: stretch;justify-content: center;background-color: white;position: relative;}#sk-container-id-18 div.sk-item::before, #sk-container-id-18 div.sk-parallel-item::before {content: \"\";position: absolute;border-left: 1px solid gray;box-sizing: border-box;top: 0;bottom: 0;left: 50%;z-index: -1;}#sk-container-id-18 div.sk-parallel-item {display: flex;flex-direction: column;z-index: 1;position: relative;background-color: white;}#sk-container-id-18 div.sk-parallel-item:first-child::after {align-self: flex-end;width: 50%;}#sk-container-id-18 div.sk-parallel-item:last-child::after {align-self: flex-start;width: 50%;}#sk-container-id-18 div.sk-parallel-item:only-child::after {width: 0;}#sk-container-id-18 div.sk-dashed-wrapped {border: 1px dashed gray;margin: 0 0.4em 0.5em 0.4em;box-sizing: border-box;padding-bottom: 0.4em;background-color: white;}#sk-container-id-18 div.sk-label label {font-family: monospace;font-weight: bold;display: inline-block;line-height: 1.2em;}#sk-container-id-18 div.sk-label-container {text-align: center;}#sk-container-id-18 div.sk-container {/* jupyter's `normalize.less` sets `[hidden] { display: none; }` but bootstrap.min.css set `[hidden] { display: none !important; }` so we also need the `!important` here to be able to override the default hidden behavior on the sphinx rendered scikit-learn.org. See: https://github.com/scikit-learn/scikit-learn/issues/21755 */display: inline-block !important;position: relative;}#sk-container-id-18 div.sk-text-repr-fallback {display: none;}</style><div id=\"sk-container-id-18\" class=\"sk-top-container\"><div class=\"sk-text-repr-fallback\"><pre>GaussianNB()</pre><b>In a Jupyter environment, please rerun this cell to show the HTML representation or trust the notebook. <br />On GitHub, the HTML representation is unable to render, please try loading this page with nbviewer.org.</b></div><div class=\"sk-container\" hidden><div class=\"sk-item\"><div class=\"sk-estimator sk-toggleable\"><input class=\"sk-toggleable__control sk-hidden--visually\" id=\"sk-estimator-id-18\" type=\"checkbox\" checked><label for=\"sk-estimator-id-18\" class=\"sk-toggleable__label sk-toggleable__label-arrow\">GaussianNB</label><div class=\"sk-toggleable__content\"><pre>GaussianNB()</pre></div></div></div></div></div>"
            ]
          },
          "metadata": {},
          "execution_count": 164
        }
      ]
    },
    {
      "cell_type": "markdown",
      "source": [
        "Se hace la validación cruzada k-fold para evaluación de modelos."
      ],
      "metadata": {
        "id": "TtMKFU4ISFCC"
      }
    },
    {
      "cell_type": "code",
      "source": [
        "knn_scores = cross_val_score(knn, X_train, y_train, cv=5)\n",
        "svm_scores = cross_val_score(svm, X_train, y_train, cv=5)\n",
        "decision_tree_scores = cross_val_score(decision_tree, X_train, y_train, cv=5)\n",
        "naive_bayes_scores = cross_val_score(naive_bayes, X_train, y_train, cv=5)"
      ],
      "metadata": {
        "id": "sczQ0XOgq7sf"
      },
      "execution_count": 165,
      "outputs": []
    },
    {
      "cell_type": "markdown",
      "source": [
        "Se hace la evaluación de rendimiento en el conjunto de prueba."
      ],
      "metadata": {
        "id": "EgTA6gUsSLao"
      }
    },
    {
      "cell_type": "code",
      "source": [
        "knn_pred = knn.predict(X_test)\n",
        "svm_pred = svm.predict(X_test)\n",
        "decision_tree_pred = decision_tree.predict(X_test)\n",
        "naive_bayes_pred = naive_bayes.predict(X_test)"
      ],
      "metadata": {
        "id": "H1D71aUBrCXw"
      },
      "execution_count": 166,
      "outputs": []
    },
    {
      "cell_type": "markdown",
      "source": [
        "Se hacen las Matrices de confusión y métricas de rendimiento."
      ],
      "metadata": {
        "id": "zdqcDnIRSSX8"
      }
    },
    {
      "cell_type": "code",
      "source": [
        "confusion_knn = confusion_matrix(y_test, knn_pred)\n",
        "confusion_svm = confusion_matrix(y_test, svm_pred)\n",
        "confusion_decision_tree = confusion_matrix(y_test, decision_tree_pred)\n",
        "confusion_naive_bayes = confusion_matrix(y_test, naive_bayes_pred)\n",
        "\n",
        "precision_knn = precision_score(y_test, knn_pred)\n",
        "recall_knn = recall_score(y_test, knn_pred)\n",
        "f1_score_knn = f1_score(y_test, knn_pred)\n",
        "\n",
        "precision_svm = precision_score(y_test, svm_pred)\n",
        "recall_svm = recall_score(y_test, svm_pred)\n",
        "f1_score_svm = f1_score(y_test, svm_pred)\n",
        "\n",
        "precision_decision_tree = precision_score(y_test, decision_tree_pred)\n",
        "recall_decision_tree = recall_score(y_test, decision_tree_pred)\n",
        "f1_score_decision_tree = f1_score(y_test, decision_tree_pred)\n",
        "\n",
        "precision_naive_bayes = precision_score(y_test, naive_bayes_pred)\n",
        "recall_naive_bayes = recall_score(y_test, naive_bayes_pred)\n",
        "f1_score_naive_bayes = f1_score(y_test, naive_bayes_pred)\n"
      ],
      "metadata": {
        "id": "6_b4TGLUrFYU"
      },
      "execution_count": 167,
      "outputs": []
    },
    {
      "cell_type": "markdown",
      "source": [
        "Se Crean y grafican las matrices de confusión para los cuatro modelos en un Plot."
      ],
      "metadata": {
        "id": "ijHRoEPfSzR5"
      }
    },
    {
      "cell_type": "code",
      "source": [
        "confusion_matrices = [\n",
        "    confusion_matrix(y_test, knn_pred),\n",
        "    confusion_matrix(y_test, svm_pred),\n",
        "    confusion_matrix(y_test, decision_tree_pred),\n",
        "    confusion_matrix(y_test, naive_bayes_pred)\n",
        "]\n",
        "\n",
        "modelos = ['KNN', 'SVM', 'Árbol de Decisión', 'Naive Bayes']\n",
        "\n",
        "fig, axes = plt.subplots(2, 2, figsize=(12, 10))\n",
        "\n",
        "for i, ax in enumerate(axes.ravel()):\n",
        "    sns.heatmap(confusion_matrices[i], annot=True, fmt='g', xticklabels=['Gusta', 'NO Gusta'], yticklabels=['Gusta', 'NO Gusta'], ax=ax)\n",
        "    ax.set_xlabel('Etiqueta predicha')\n",
        "    ax.set_ylabel('Etiqueta verdadera')\n",
        "    ax.set_title(f'Matriz de Confusión {modelos[i]}')\n",
        "\n",
        "plt.tight_layout()\n",
        "plt.show()"
      ],
      "metadata": {
        "id": "TH4MiFeopVTC",
        "colab": {
          "base_uri": "https://localhost:8080/",
          "height": 1000
        },
        "outputId": "e5e9a867-64df-4c6a-f592-dead14431cda"
      },
      "execution_count": 168,
      "outputs": [
        {
          "output_type": "display_data",
          "data": {
            "text/plain": [
              "<Figure size 1200x1000 with 8 Axes>"
            ],
            "image/png": "[encoded data removed]"
          },
          "metadata": {}
        }
      ]
    },
    {
      "cell_type": "markdown",
      "source": [
        "Metricas de los modelos KNN, SVM, Decision Tree y Naive Bayes:"
      ],
      "metadata": {
        "id": "SubChBcYj6oQ"
      }
    },
    {
      "cell_type": "code",
      "source": [
        "print(\"Precision KNN:           \", precision_knn)\n",
        "print(\"Recall KNN:              \", recall_knn)\n",
        "print(\"F1 Score KNN:            \", f1_score_knn)\n",
        "print(\"\")\n",
        "print(\"Precision SVM:           \", precision_svm)\n",
        "print(\"Recall SVM:              \", recall_svm)\n",
        "print(\"F1 Score SVM:            \", f1_score_svm)\n",
        "print(\"\")\n",
        "print(\"Precision Decision Tree: \", precision_decision_tree)\n",
        "print(\"Decision Tree Recall:    \", recall_decision_tree)\n",
        "print(\"Decision Tree F1 Score:  \", f1_score_decision_tree)\n",
        "print(\"\")\n",
        "print(\"Precision Naive Bayes:   \", precision_naive_bayes)\n",
        "print(\"Naive Bayes Recall:      \", recall_naive_bayes)\n",
        "print(\"Naive Bayes F1 Score:    \", f1_score_naive_bayes)\n"
      ],
      "metadata": {
        "colab": {
          "base_uri": "https://localhost:8080/"
        },
        "id": "iKAx2QSnYdaL",
        "outputId": "7c823b6c-a285-453d-cb7d-225b7b0dc11d"
      },
      "execution_count": 169,
      "outputs": [
        {
          "output_type": "stream",
          "name": "stdout",
          "text": [
            "Precision KNN:            0.7168674698795181\n",
            "Recall KNN:               0.601010101010101\n",
            "F1 Score KNN:             0.6538461538461539\n",
            "\n",
            "Precision SVM:            0.757396449704142\n",
            "Recall SVM:               0.6464646464646465\n",
            "F1 Score SVM:             0.6975476839237057\n",
            "\n",
            "Precision Decision Tree:  0.6465116279069767\n",
            "Decision Tree Recall:     0.702020202020202\n",
            "Decision Tree F1 Score:   0.6731234866828087\n",
            "\n",
            "Precision Naive Bayes:    0.6217616580310881\n",
            "Naive Bayes Recall:       0.6060606060606061\n",
            "Naive Bayes F1 Score:     0.6138107416879796\n"
          ]
        }
      ]
    },
    {
      "cell_type": "markdown",
      "source": [
        "Ensamble de modelos (Votación Mayoritaria)"
      ],
      "metadata": {
        "id": "nI8__TxJSnnv"
      }
    },
    {
      "cell_type": "code",
      "source": [
        "ensamble = VotingClassifier(estimators=[('knn', knn), ('svm', svm), ('decision_tree', decision_tree), ('naive_bayes', naive_bayes)], voting='hard')\n",
        "ensamble.fit(X_train, y_train)\n",
        "ensamble_pred = ensamble.predict(X_test)"
      ],
      "metadata": {
        "id": "x8ATFj9RrQ79"
      },
      "execution_count": 170,
      "outputs": []
    },
    {
      "cell_type": "markdown",
      "source": [
        "Evaluación del rendimiento del ensamble."
      ],
      "metadata": {
        "id": "B0XLtUyHStam"
      }
    },
    {
      "cell_type": "code",
      "source": [
        "confusion_ensamble = confusion_matrix(y_test, ensamble_pred)\n",
        "precision_ensamble = precision_score(y_test, ensamble_pred)\n",
        "recall_ensamble = recall_score(y_test, ensamble_pred)\n",
        "f1_score_ensamble = f1_score(y_test, ensamble_pred)"
      ],
      "metadata": {
        "id": "v43MmxRvrU_F"
      },
      "execution_count": 171,
      "outputs": []
    },
    {
      "cell_type": "markdown",
      "source": [
        "Metricas del Ensamble"
      ],
      "metadata": {
        "id": "IzavGVvCwAXp"
      }
    },
    {
      "cell_type": "code",
      "source": [
        "print(\"Precision Ensamble:\", precision_ensamble)\n",
        "print(\"Recall Ensamble:   \", recall_ensamble)\n",
        "print(\"F1 Score Ensamble: \", f1_score_ensamble)"
      ],
      "metadata": {
        "colab": {
          "base_uri": "https://localhost:8080/"
        },
        "id": "GRFPK2GsW-J5",
        "outputId": "22e0b121-66f3-4b91-f0b8-e1f061ad4598"
      },
      "execution_count": 172,
      "outputs": [
        {
          "output_type": "stream",
          "name": "stdout",
          "text": [
            "Precision Ensamble: 0.7622377622377622\n",
            "Recall Ensamble:    0.5505050505050505\n",
            "F1 Score Ensamble:  0.6392961876832844\n"
          ]
        }
      ]
    },
    {
      "cell_type": "code",
      "source": [
        "plt.figure(figsize=(7,5))\n",
        "sns.heatmap(confusion_ensamble, annot=True, fmt='g', xticklabels=['Gusta', 'NO Gusta'], yticklabels=['Gusta', 'NO Gusta'])\n",
        "plt.xlabel('Etiqueta predicha')\n",
        "plt.ylabel('Etiqueta verdadera')\n",
        "plt.title('Matriz de Confusión Ensamble')\n",
        "plt.show()"
      ],
      "metadata": {
        "id": "0G1kqNGbjM6F",
        "colab": {
          "base_uri": "https://localhost:8080/",
          "height": 487
        },
        "outputId": "bf30793e-e3c5-4a68-8d8d-a5c297639737"
      },
      "execution_count": 173,
      "outputs": [
        {
          "output_type": "display_data",
          "data": {
            "text/plain": [
              "<Figure size 700x500 with 2 Axes>"
            ],
            "image/png": "[encoded data removed]"
          },
          "metadata": {}
        }
      ]
    },
    {
      "cell_type": "markdown",
      "source": [
        "******** SECCION Busqueda de los Mejores Hiperparametros usando GRID SEARCH y o RANDOM SEARCH ******\n",
        "\n"
      ],
      "metadata": {
        "id": "E3VaCpETBJJo"
      }
    },
    {
      "cell_type": "markdown",
      "source": [
        "Modelo SVM con GRID SEARCH\n"
      ],
      "metadata": {
        "id": "YxH62w3B20sJ"
      }
    },
    {
      "cell_type": "code",
      "source": [
        "param_grid = {\n",
        "    'C': [0.1, 1],\n",
        "    'kernel': ['linear', 'rbf'],\n",
        "    'gamma': [0.001, 0.01]\n",
        "}\n",
        "\n",
        "svmGS = SVC()\n",
        "\n",
        "grid_search = GridSearchCV(svmGS, param_grid, cv=5, scoring='accuracy')\n",
        "grid_search.fit(X_train, y_train)\n",
        "\n",
        "best_paramsSVM = grid_search.best_params_\n",
        "best_scoreSVM = grid_search.best_score_\n",
        "print(\"Mejores hiperparámetros:\", best_paramsSVM)\n",
        "print(\"Puntuación de precisión:\", best_scoreSVM)\n",
        "\n",
        "best_svm = SVC(**best_paramsSVM)\n",
        "best_svm.fit(X_train, y_train)"
      ],
      "metadata": {
        "colab": {
          "base_uri": "https://localhost:8080/",
          "height": 110
        },
        "id": "RPv-V3x0x6-s",
        "outputId": "f3bcde43-a90e-48c8-ab76-f24fc56d412a"
      },
      "execution_count": 174,
      "outputs": [
        {
          "output_type": "stream",
          "name": "stdout",
          "text": [
            "Mejores hiperparámetros: {'C': 1, 'gamma': 0.01, 'kernel': 'rbf'}\n",
            "Puntuación de precisión: 0.6552987327654174\n"
          ]
        },
        {
          "output_type": "execute_result",
          "data": {
            "text/plain": [
              "SVC(C=1, gamma=0.01)"
            ],
            "text/html": [
              "<style>#sk-container-id-19 {color: black;background-color: white;}#sk-container-id-19 pre{padding: 0;}#sk-container-id-19 div.sk-toggleable {background-color: white;}#sk-container-id-19 label.sk-toggleable__label {cursor: pointer;display: block;width: 100%;margin-bottom: 0;padding: 0.3em;box-sizing: border-box;text-align: center;}#sk-container-id-19 label.sk-toggleable__label-arrow:before {content: \"▸\";float: left;margin-right: 0.25em;color: #696969;}#sk-container-id-19 label.sk-toggleable__label-arrow:hover:before {color: black;}#sk-container-id-19 div.sk-estimator:hover label.sk-toggleable__label-arrow:before {color: black;}#sk-container-id-19 div.sk-toggleable__content {max-height: 0;max-width: 0;overflow: hidden;text-align: left;background-color: #f0f8ff;}#sk-container-id-19 div.sk-toggleable__content pre {margin: 0.2em;color: black;border-radius: 0.25em;background-color: #f0f8ff;}#sk-container-id-19 input.sk-toggleable__control:checked~div.sk-toggleable__content {max-height: 200px;max-width: 100%;overflow: auto;}#sk-container-id-19 input.sk-toggleable__control:checked~label.sk-toggleable__label-arrow:before {content: \"▾\";}#sk-container-id-19 div.sk-estimator input.sk-toggleable__control:checked~label.sk-toggleable__label {background-color: #d4ebff;}#sk-container-id-19 div.sk-label input.sk-toggleable__control:checked~label.sk-toggleable__label {background-color: #d4ebff;}#sk-container-id-19 input.sk-hidden--visually {border: 0;clip: rect(1px 1px 1px 1px);clip: rect(1px, 1px, 1px, 1px);height: 1px;margin: -1px;overflow: hidden;padding: 0;position: absolute;width: 1px;}#sk-container-id-19 div.sk-estimator {font-family: monospace;background-color: #f0f8ff;border: 1px dotted black;border-radius: 0.25em;box-sizing: border-box;margin-bottom: 0.5em;}#sk-container-id-19 div.sk-estimator:hover {background-color: #d4ebff;}#sk-container-id-19 div.sk-parallel-item::after {content: \"\";width: 100%;border-bottom: 1px solid gray;flex-grow: 1;}#sk-container-id-19 div.sk-label:hover label.sk-toggleable__label {background-color: #d4ebff;}#sk-container-id-19 div.sk-serial::before {content: \"\";position: absolute;border-left: 1px solid gray;box-sizing: border-box;top: 0;bottom: 0;left: 50%;z-index: 0;}#sk-container-id-19 div.sk-serial {display: flex;flex-direction: column;align-items: center;background-color: white;padding-right: 0.2em;padding-left: 0.2em;position: relative;}#sk-container-id-19 div.sk-item {position: relative;z-index: 1;}#sk-container-id-19 div.sk-parallel {display: flex;align-items: stretch;justify-content: center;background-color: white;position: relative;}#sk-container-id-19 div.sk-item::before, #sk-container-id-19 div.sk-parallel-item::before {content: \"\";position: absolute;border-left: 1px solid gray;box-sizing: border-box;top: 0;bottom: 0;left: 50%;z-index: -1;}#sk-container-id-19 div.sk-parallel-item {display: flex;flex-direction: column;z-index: 1;position: relative;background-color: white;}#sk-container-id-19 div.sk-parallel-item:first-child::after {align-self: flex-end;width: 50%;}#sk-container-id-19 div.sk-parallel-item:last-child::after {align-self: flex-start;width: 50%;}#sk-container-id-19 div.sk-parallel-item:only-child::after {width: 0;}#sk-container-id-19 div.sk-dashed-wrapped {border: 1px dashed gray;margin: 0 0.4em 0.5em 0.4em;box-sizing: border-box;padding-bottom: 0.4em;background-color: white;}#sk-container-id-19 div.sk-label label {font-family: monospace;font-weight: bold;display: inline-block;line-height: 1.2em;}#sk-container-id-19 div.sk-label-container {text-align: center;}#sk-container-id-19 div.sk-container {/* jupyter's `normalize.less` sets `[hidden] { display: none; }` but bootstrap.min.css set `[hidden] { display: none !important; }` so we also need the `!important` here to be able to override the default hidden behavior on the sphinx rendered scikit-learn.org. See: https://github.com/scikit-learn/scikit-learn/issues/21755 */display: inline-block !important;position: relative;}#sk-container-id-19 div.sk-text-repr-fallback {display: none;}</style><div id=\"sk-container-id-19\" class=\"sk-top-container\"><div class=\"sk-text-repr-fallback\"><pre>SVC(C=1, gamma=0.01)</pre><b>In a Jupyter environment, please rerun this cell to show the HTML representation or trust the notebook. <br />On GitHub, the HTML representation is unable to render, please try loading this page with nbviewer.org.</b></div><div class=\"sk-container\" hidden><div class=\"sk-item\"><div class=\"sk-estimator sk-toggleable\"><input class=\"sk-toggleable__control sk-hidden--visually\" id=\"sk-estimator-id-19\" type=\"checkbox\" checked><label for=\"sk-estimator-id-19\" class=\"sk-toggleable__label sk-toggleable__label-arrow\">SVC</label><div class=\"sk-toggleable__content\"><pre>SVC(C=1, gamma=0.01)</pre></div></div></div></div></div>"
            ]
          },
          "metadata": {},
          "execution_count": 174
        }
      ]
    },
    {
      "cell_type": "markdown",
      "source": [
        "Modelo SVM con RANDOM SEARCH"
      ],
      "metadata": {
        "id": "cDHy5BiWaYMH"
      }
    },
    {
      "cell_type": "code",
      "source": [
        "param_dist = {\n",
        "    'C': uniform(loc=0, scale=10),\n",
        "    'gamma': ['scale', 'auto'] + list(np.logspace(-3, 3, 7))\n",
        "}\n",
        "\n",
        "svmRS = SVC()\n",
        "\n",
        "random_searchSVM = RandomizedSearchCV(\n",
        "    svmRS,\n",
        "    param_distributions=param_dist,\n",
        "    n_iter=10,\n",
        "    cv=5,\n",
        "    scoring='accuracy',\n",
        "    n_jobs=-1,\n",
        "    random_state=42\n",
        ")\n",
        "\n",
        "random_searchSVM.fit(X_train, y_train)\n",
        "\n",
        "print(\"Mejores hiperparámetros:\", random_searchSVM.best_params_)\n",
        "best_paramsSVM_RS = random_searchSVM.best_params_\n",
        "\n",
        "best_model = random_searchSVM.best_estimator_\n",
        "print(\"Best Model:\", best_model)\n",
        "\n",
        "y_pred_SVM_BEST_RS = best_model.predict(X_test)\n"
      ],
      "metadata": {
        "colab": {
          "base_uri": "https://localhost:8080/"
        },
        "id": "vx0Rv16fTfvZ",
        "outputId": "c4ac9b4c-102d-419c-b475-c1c51954c25b"
      },
      "execution_count": 175,
      "outputs": [
        {
          "output_type": "stream",
          "name": "stdout",
          "text": [
            "Mejores hiperparámetros: {'C': 7.080725777960454, 'gamma': 1.0}\n",
            "Best Model: SVC(C=7.080725777960454, gamma=1.0)\n"
          ]
        }
      ]
    },
    {
      "cell_type": "markdown",
      "source": [
        "RANDOM SEARCH, Se selecciona aleatoriamente un número especificado de combinaciones de hiperparámetros para evaluar en el Clasificador KNN:\n"
      ],
      "metadata": {
        "id": "HkONNaAC3ZR1"
      }
    },
    {
      "cell_type": "code",
      "source": [
        "param_dist = {\n",
        "    'n_neighbors': np.arange(1, 31),\n",
        "    'weights': ['uniform', 'distance'],\n",
        "    'p': [1, 2]\n",
        "}\n",
        "\n",
        "knn = KNeighborsClassifier()\n",
        "\n",
        "random_searchKNN = RandomizedSearchCV(knn, param_distributions=param_dist, n_iter=10, cv=5, scoring='accuracy')\n",
        "random_searchKNN.fit(X_train, y_train)\n",
        "\n",
        "best_paramsKNN = random_searchKNN.best_params_\n",
        "best_scoreKNN = random_searchKNN.best_score_\n",
        "print(\"Mejores hiperparámetros:\", best_paramsKNN)\n",
        "print(\"Puntuación de precisión:\", best_scoreKNN)\n",
        "\n",
        "best_knn = KNeighborsClassifier(**best_paramsKNN)\n",
        "best_knn.fit(X_train, y_train)"
      ],
      "metadata": {
        "colab": {
          "base_uri": "https://localhost:8080/",
          "height": 110
        },
        "id": "B6tqQQevxhfq",
        "outputId": "a8a87f0a-0333-4280-b556-03358470258b"
      },
      "execution_count": 176,
      "outputs": [
        {
          "output_type": "stream",
          "name": "stdout",
          "text": [
            "Mejores hiperparámetros: {'weights': 'distance', 'p': 1, 'n_neighbors': 16}\n",
            "Puntuación de precisión: 0.681339538103571\n"
          ]
        },
        {
          "output_type": "execute_result",
          "data": {
            "text/plain": [
              "KNeighborsClassifier(n_neighbors=16, p=1, weights='distance')"
            ],
            "text/html": [
              "<style>#sk-container-id-20 {color: black;background-color: white;}#sk-container-id-20 pre{padding: 0;}#sk-container-id-20 div.sk-toggleable {background-color: white;}#sk-container-id-20 label.sk-toggleable__label {cursor: pointer;display: block;width: 100%;margin-bottom: 0;padding: 0.3em;box-sizing: border-box;text-align: center;}#sk-container-id-20 label.sk-toggleable__label-arrow:before {content: \"▸\";float: left;margin-right: 0.25em;color: #696969;}#sk-container-id-20 label.sk-toggleable__label-arrow:hover:before {color: black;}#sk-container-id-20 div.sk-estimator:hover label.sk-toggleable__label-arrow:before {color: black;}#sk-container-id-20 div.sk-toggleable__content {max-height: 0;max-width: 0;overflow: hidden;text-align: left;background-color: #f0f8ff;}#sk-container-id-20 div.sk-toggleable__content pre {margin: 0.2em;color: black;border-radius: 0.25em;background-color: #f0f8ff;}#sk-container-id-20 input.sk-toggleable__control:checked~div.sk-toggleable__content {max-height: 200px;max-width: 100%;overflow: auto;}#sk-container-id-20 input.sk-toggleable__control:checked~label.sk-toggleable__label-arrow:before {content: \"▾\";}#sk-container-id-20 div.sk-estimator input.sk-toggleable__control:checked~label.sk-toggleable__label {background-color: #d4ebff;}#sk-container-id-20 div.sk-label input.sk-toggleable__control:checked~label.sk-toggleable__label {background-color: #d4ebff;}#sk-container-id-20 input.sk-hidden--visually {border: 0;clip: rect(1px 1px 1px 1px);clip: rect(1px, 1px, 1px, 1px);height: 1px;margin: -1px;overflow: hidden;padding: 0;position: absolute;width: 1px;}#sk-container-id-20 div.sk-estimator {font-family: monospace;background-color: #f0f8ff;border: 1px dotted black;border-radius: 0.25em;box-sizing: border-box;margin-bottom: 0.5em;}#sk-container-id-20 div.sk-estimator:hover {background-color: #d4ebff;}#sk-container-id-20 div.sk-parallel-item::after {content: \"\";width: 100%;border-bottom: 1px solid gray;flex-grow: 1;}#sk-container-id-20 div.sk-label:hover label.sk-toggleable__label {background-color: #d4ebff;}#sk-container-id-20 div.sk-serial::before {content: \"\";position: absolute;border-left: 1px solid gray;box-sizing: border-box;top: 0;bottom: 0;left: 50%;z-index: 0;}#sk-container-id-20 div.sk-serial {display: flex;flex-direction: column;align-items: center;background-color: white;padding-right: 0.2em;padding-left: 0.2em;position: relative;}#sk-container-id-20 div.sk-item {position: relative;z-index: 1;}#sk-container-id-20 div.sk-parallel {display: flex;align-items: stretch;justify-content: center;background-color: white;position: relative;}#sk-container-id-20 div.sk-item::before, #sk-container-id-20 div.sk-parallel-item::before {content: \"\";position: absolute;border-left: 1px solid gray;box-sizing: border-box;top: 0;bottom: 0;left: 50%;z-index: -1;}#sk-container-id-20 div.sk-parallel-item {display: flex;flex-direction: column;z-index: 1;position: relative;background-color: white;}#sk-container-id-20 div.sk-parallel-item:first-child::after {align-self: flex-end;width: 50%;}#sk-container-id-20 div.sk-parallel-item:last-child::after {align-self: flex-start;width: 50%;}#sk-container-id-20 div.sk-parallel-item:only-child::after {width: 0;}#sk-container-id-20 div.sk-dashed-wrapped {border: 1px dashed gray;margin: 0 0.4em 0.5em 0.4em;box-sizing: border-box;padding-bottom: 0.4em;background-color: white;}#sk-container-id-20 div.sk-label label {font-family: monospace;font-weight: bold;display: inline-block;line-height: 1.2em;}#sk-container-id-20 div.sk-label-container {text-align: center;}#sk-container-id-20 div.sk-container {/* jupyter's `normalize.less` sets `[hidden] { display: none; }` but bootstrap.min.css set `[hidden] { display: none !important; }` so we also need the `!important` here to be able to override the default hidden behavior on the sphinx rendered scikit-learn.org. See: https://github.com/scikit-learn/scikit-learn/issues/21755 */display: inline-block !important;position: relative;}#sk-container-id-20 div.sk-text-repr-fallback {display: none;}</style><div id=\"sk-container-id-20\" class=\"sk-top-container\"><div class=\"sk-text-repr-fallback\"><pre>KNeighborsClassifier(n_neighbors=16, p=1, weights=&#x27;distance&#x27;)</pre><b>In a Jupyter environment, please rerun this cell to show the HTML representation or trust the notebook. <br />On GitHub, the HTML representation is unable to render, please try loading this page with nbviewer.org.</b></div><div class=\"sk-container\" hidden><div class=\"sk-item\"><div class=\"sk-estimator sk-toggleable\"><input class=\"sk-toggleable__control sk-hidden--visually\" id=\"sk-estimator-id-20\" type=\"checkbox\" checked><label for=\"sk-estimator-id-20\" class=\"sk-toggleable__label sk-toggleable__label-arrow\">KNeighborsClassifier</label><div class=\"sk-toggleable__content\"><pre>KNeighborsClassifier(n_neighbors=16, p=1, weights=&#x27;distance&#x27;)</pre></div></div></div></div></div>"
            ]
          },
          "metadata": {},
          "execution_count": 176
        }
      ]
    },
    {
      "cell_type": "markdown",
      "source": [
        "RANDOM SEARCH para el modelo Decision Tree:"
      ],
      "metadata": {
        "id": "zL03k0HGeoxS"
      }
    },
    {
      "cell_type": "code",
      "source": [
        "param_dist = {\n",
        "    'criterion': ['gini', 'entropy'],\n",
        "    'splitter': ['best', 'random'],\n",
        "    'max_depth': np.arange(1, 21),\n",
        "    'min_samples_split': np.arange(2, 11),\n",
        "    'min_samples_leaf': np.arange(1, 11)\n",
        "}\n",
        "\n",
        "decision_tree = DecisionTreeClassifier()\n",
        "\n",
        "random_searchDT = RandomizedSearchCV(decision_tree, param_distributions=param_dist, n_iter=10, cv=5, scoring='accuracy')\n",
        "random_searchDT.fit(X_train, y_train)\n",
        "\n",
        "best_paramsDT = random_searchDT.best_params_\n",
        "best_scoreDT = random_searchDT.best_score_\n",
        "print(\"Mejores hiperparámetros:\", best_paramsDT)\n",
        "print(\"Puntuación de precisión:\", best_scoreDT)\n",
        "\n",
        "best_decision_tree = DecisionTreeClassifier(**best_paramsDT)\n",
        "best_decision_tree.fit(X_train, y_train)"
      ],
      "metadata": {
        "colab": {
          "base_uri": "https://localhost:8080/",
          "height": 127
        },
        "id": "unlZPrVdDyLZ",
        "outputId": "0ac7b872-a587-43e0-fbb4-a93120993491"
      },
      "execution_count": 177,
      "outputs": [
        {
          "output_type": "stream",
          "name": "stdout",
          "text": [
            "Mejores hiperparámetros: {'splitter': 'best', 'min_samples_split': 4, 'min_samples_leaf': 4, 'max_depth': 8, 'criterion': 'entropy'}\n",
            "Puntuación de precisión: 0.7185450839374652\n"
          ]
        },
        {
          "output_type": "execute_result",
          "data": {
            "text/plain": [
              "DecisionTreeClassifier(criterion='entropy', max_depth=8, min_samples_leaf=4,\n",
              "                       min_samples_split=4)"
            ],
            "text/html": [
              "<style>#sk-container-id-21 {color: black;background-color: white;}#sk-container-id-21 pre{padding: 0;}#sk-container-id-21 div.sk-toggleable {background-color: white;}#sk-container-id-21 label.sk-toggleable__label {cursor: pointer;display: block;width: 100%;margin-bottom: 0;padding: 0.3em;box-sizing: border-box;text-align: center;}#sk-container-id-21 label.sk-toggleable__label-arrow:before {content: \"▸\";float: left;margin-right: 0.25em;color: #696969;}#sk-container-id-21 label.sk-toggleable__label-arrow:hover:before {color: black;}#sk-container-id-21 div.sk-estimator:hover label.sk-toggleable__label-arrow:before {color: black;}#sk-container-id-21 div.sk-toggleable__content {max-height: 0;max-width: 0;overflow: hidden;text-align: left;background-color: #f0f8ff;}#sk-container-id-21 div.sk-toggleable__content pre {margin: 0.2em;color: black;border-radius: 0.25em;background-color: #f0f8ff;}#sk-container-id-21 input.sk-toggleable__control:checked~div.sk-toggleable__content {max-height: 200px;max-width: 100%;overflow: auto;}#sk-container-id-21 input.sk-toggleable__control:checked~label.sk-toggleable__label-arrow:before {content: \"▾\";}#sk-container-id-21 div.sk-estimator input.sk-toggleable__control:checked~label.sk-toggleable__label {background-color: #d4ebff;}#sk-container-id-21 div.sk-label input.sk-toggleable__control:checked~label.sk-toggleable__label {background-color: #d4ebff;}#sk-container-id-21 input.sk-hidden--visually {border: 0;clip: rect(1px 1px 1px 1px);clip: rect(1px, 1px, 1px, 1px);height: 1px;margin: -1px;overflow: hidden;padding: 0;position: absolute;width: 1px;}#sk-container-id-21 div.sk-estimator {font-family: monospace;background-color: #f0f8ff;border: 1px dotted black;border-radius: 0.25em;box-sizing: border-box;margin-bottom: 0.5em;}#sk-container-id-21 div.sk-estimator:hover {background-color: #d4ebff;}#sk-container-id-21 div.sk-parallel-item::after {content: \"\";width: 100%;border-bottom: 1px solid gray;flex-grow: 1;}#sk-container-id-21 div.sk-label:hover label.sk-toggleable__label {background-color: #d4ebff;}#sk-container-id-21 div.sk-serial::before {content: \"\";position: absolute;border-left: 1px solid gray;box-sizing: border-box;top: 0;bottom: 0;left: 50%;z-index: 0;}#sk-container-id-21 div.sk-serial {display: flex;flex-direction: column;align-items: center;background-color: white;padding-right: 0.2em;padding-left: 0.2em;position: relative;}#sk-container-id-21 div.sk-item {position: relative;z-index: 1;}#sk-container-id-21 div.sk-parallel {display: flex;align-items: stretch;justify-content: center;background-color: white;position: relative;}#sk-container-id-21 div.sk-item::before, #sk-container-id-21 div.sk-parallel-item::before {content: \"\";position: absolute;border-left: 1px solid gray;box-sizing: border-box;top: 0;bottom: 0;left: 50%;z-index: -1;}#sk-container-id-21 div.sk-parallel-item {display: flex;flex-direction: column;z-index: 1;position: relative;background-color: white;}#sk-container-id-21 div.sk-parallel-item:first-child::after {align-self: flex-end;width: 50%;}#sk-container-id-21 div.sk-parallel-item:last-child::after {align-self: flex-start;width: 50%;}#sk-container-id-21 div.sk-parallel-item:only-child::after {width: 0;}#sk-container-id-21 div.sk-dashed-wrapped {border: 1px dashed gray;margin: 0 0.4em 0.5em 0.4em;box-sizing: border-box;padding-bottom: 0.4em;background-color: white;}#sk-container-id-21 div.sk-label label {font-family: monospace;font-weight: bold;display: inline-block;line-height: 1.2em;}#sk-container-id-21 div.sk-label-container {text-align: center;}#sk-container-id-21 div.sk-container {/* jupyter's `normalize.less` sets `[hidden] { display: none; }` but bootstrap.min.css set `[hidden] { display: none !important; }` so we also need the `!important` here to be able to override the default hidden behavior on the sphinx rendered scikit-learn.org. See: https://github.com/scikit-learn/scikit-learn/issues/21755 */display: inline-block !important;position: relative;}#sk-container-id-21 div.sk-text-repr-fallback {display: none;}</style><div id=\"sk-container-id-21\" class=\"sk-top-container\"><div class=\"sk-text-repr-fallback\"><pre>DecisionTreeClassifier(criterion=&#x27;entropy&#x27;, max_depth=8, min_samples_leaf=4,\n",
              "                       min_samples_split=4)</pre><b>In a Jupyter environment, please rerun this cell to show the HTML representation or trust the notebook. <br />On GitHub, the HTML representation is unable to render, please try loading this page with nbviewer.org.</b></div><div class=\"sk-container\" hidden><div class=\"sk-item\"><div class=\"sk-estimator sk-toggleable\"><input class=\"sk-toggleable__control sk-hidden--visually\" id=\"sk-estimator-id-21\" type=\"checkbox\" checked><label for=\"sk-estimator-id-21\" class=\"sk-toggleable__label sk-toggleable__label-arrow\">DecisionTreeClassifier</label><div class=\"sk-toggleable__content\"><pre>DecisionTreeClassifier(criterion=&#x27;entropy&#x27;, max_depth=8, min_samples_leaf=4,\n",
              "                       min_samples_split=4)</pre></div></div></div></div></div>"
            ]
          },
          "metadata": {},
          "execution_count": 177
        }
      ]
    },
    {
      "cell_type": "markdown",
      "source": [
        "BEST NAIVE BAYES con RANDOM SEARCH, en el modelo Naive Bayes no hay Hiperparametros a ajustar."
      ],
      "metadata": {
        "id": "ybtv2sGMHJIc"
      }
    },
    {
      "cell_type": "code",
      "source": [
        "param_dist = {\n",
        "    'priors': [None],  # No hay hiperparámetros específicos para ajustar en Naive Bayes\n",
        "}\n",
        "\n",
        "random_searchNB = RandomizedSearchCV(GaussianNB(), param_distributions=param_dist, n_iter=1, cv=5, scoring='accuracy')\n",
        "random_searchNB.fit(X_train, y_train)\n",
        "\n",
        "y_pred_best_naive_bayes = random_searchNB.predict(X_test)"
      ],
      "metadata": {
        "id": "fFzmwKJej_1d"
      },
      "execution_count": 178,
      "outputs": []
    },
    {
      "cell_type": "markdown",
      "source": [
        "******* SECCION BEST PARAMETERS, solo configuramos los modelos con los mejores parametros *******************\n"
      ],
      "metadata": {
        "id": "FBf7gOogBMQc"
      }
    },
    {
      "cell_type": "markdown",
      "source": [
        "Aca usamos los mejores parametros obtenidos."
      ],
      "metadata": {
        "id": "QBkVhup78U9A"
      }
    },
    {
      "cell_type": "markdown",
      "source": [
        "Aqui hacemos un modelo KNN con los mejores hiperparametros."
      ],
      "metadata": {
        "id": "T_1KDXc5CMKW"
      }
    },
    {
      "cell_type": "code",
      "source": [
        "knnBest = KNeighborsClassifier(**best_paramsKNN)\n",
        "knnBest.fit(X_train, y_train)\n",
        "knnBest_scores = cross_val_score(knnBest, X_train, y_train, cv=5)\n",
        "knnBest_pred = knnBest.predict(X_test)\n",
        "confusion_knnBest = confusion_matrix(y_test, knnBest_pred)"
      ],
      "metadata": {
        "id": "wIW5hVOJ7Ges"
      },
      "execution_count": 179,
      "outputs": []
    },
    {
      "cell_type": "markdown",
      "source": [
        "Aqui Hacemos un modelo SVM con los mejores hiperparametros Obtenidos por GRID SEARCH."
      ],
      "metadata": {
        "id": "j-y6SnDqAZ3z"
      }
    },
    {
      "cell_type": "code",
      "source": [
        "svmBest = SVC(**best_paramsSVM)\n",
        "svmBest.fit(X_train, y_train)\n",
        "svmBest_scores = cross_val_score(svmBest, X_train, y_train, cv=5)\n",
        "svmBest_pred = svmBest.predict(X_test)\n",
        "confusion_svmBest = confusion_matrix(y_test, svmBest_pred)"
      ],
      "metadata": {
        "id": "EeZ7ekzc_sSu"
      },
      "execution_count": 180,
      "outputs": []
    },
    {
      "cell_type": "markdown",
      "source": [
        "Aqui Hacemos un modelo SVM con los mejores hiperparametros Obtenidos por RANDOM SEARCH."
      ],
      "metadata": {
        "id": "5uJMq_Z-WCzF"
      }
    },
    {
      "cell_type": "code",
      "source": [
        "svmBest_RS = best_model\n",
        "svmBest_RS.fit(X_train, y_train)\n",
        "svmBest_RS_scores = cross_val_score(svmBest, X_train, y_train, cv=5)\n",
        "svmBest_pred_RS = best_model.predict(X_test)\n",
        "confusion_svmBest_RS = confusion_matrix(y_test, svmBest_pred_RS)"
      ],
      "metadata": {
        "id": "LtNNg_1HUI4P"
      },
      "execution_count": 181,
      "outputs": []
    },
    {
      "cell_type": "markdown",
      "source": [
        "Aqui hacemos el modelo BEST DECISION TREE con los mejores hiperparametros"
      ],
      "metadata": {
        "id": "VVbR2kXMEnGk"
      }
    },
    {
      "cell_type": "code",
      "source": [
        "decision_tree_Best = DecisionTreeClassifier(**best_paramsDT)\n",
        "decision_tree_scores_Best = cross_val_score(decision_tree_Best, X_train, y_train, cv=5)\n",
        "decision_tree_Best.fit(X_train, y_train)\n",
        "decision_tree_pred_Best = decision_tree_Best.predict(X_test)\n",
        "confusion_decision_tree_Best = confusion_matrix(y_test, decision_tree_pred_Best)"
      ],
      "metadata": {
        "id": "MnT6WMYtEyYH"
      },
      "execution_count": 182,
      "outputs": []
    },
    {
      "cell_type": "markdown",
      "source": [
        "Metricas BEST SVM GRID SEARCH"
      ],
      "metadata": {
        "id": "cqUQKGj6C1fl"
      }
    },
    {
      "cell_type": "code",
      "source": [
        "precision_svmBest = precision_score(y_test, svmBest_pred)\n",
        "recall_svmBest = recall_score(y_test, svmBest_pred)\n",
        "f1_score_svmBest = f1_score(y_test, svmBest_pred)"
      ],
      "metadata": {
        "id": "aMDZu1HA_6oE"
      },
      "execution_count": 183,
      "outputs": []
    },
    {
      "cell_type": "markdown",
      "source": [
        "Metricas BEST SVM RANDOM SEARCH"
      ],
      "metadata": {
        "id": "egc2UyXzWQGt"
      }
    },
    {
      "cell_type": "code",
      "source": [
        "precision_svmBest_RS = precision_score(y_test, svmBest_pred_RS)\n",
        "recall_svmBest_RS = recall_score(y_test, svmBest_pred_RS)\n",
        "f1_score_svmBest_RS = f1_score(y_test, svmBest_pred_RS)"
      ],
      "metadata": {
        "id": "YiDyv-xrVbWg"
      },
      "execution_count": 184,
      "outputs": []
    },
    {
      "cell_type": "markdown",
      "source": [
        "Metricas model BEST KNN"
      ],
      "metadata": {
        "id": "VEQybstcCwGV"
      }
    },
    {
      "cell_type": "code",
      "source": [
        "precision_knnBest = precision_score(y_test, knnBest_pred)\n",
        "recall_knnBest = recall_score(y_test, knnBest_pred)\n",
        "f1_score_knnBest = f1_score(y_test, knnBest_pred)"
      ],
      "metadata": {
        "id": "kWWr_-sGCl_c"
      },
      "execution_count": 185,
      "outputs": []
    },
    {
      "cell_type": "markdown",
      "source": [
        "Metricas BEST DECISION TREE\n"
      ],
      "metadata": {
        "id": "bWKOOi1IHBEz"
      }
    },
    {
      "cell_type": "code",
      "source": [
        "precision_decision_tree_Best = precision_score(y_test, decision_tree_pred_Best)\n",
        "recall_decision_tree_Best = recall_score(y_test, decision_tree_pred_Best)\n",
        "f1_score_decision_tree_Best = f1_score(y_test, decision_tree_pred_Best)"
      ],
      "metadata": {
        "id": "BrejBsTtFz7C"
      },
      "execution_count": 186,
      "outputs": []
    },
    {
      "cell_type": "markdown",
      "source": [
        "Metricas BEST NAIVE BAYES"
      ],
      "metadata": {
        "id": "bmtSLUI2rj97"
      }
    },
    {
      "cell_type": "code",
      "source": [
        "confusionNB = confusion_matrix(y_test, y_pred_best_naive_bayes)\n",
        "precisionNB = precision_score(y_test, y_pred_best_naive_bayes)\n",
        "recallNB = recall_score(y_test, y_pred_best_naive_bayes)\n",
        "f1_score_NB = f1_score(y_test, y_pred_best_naive_bayes)"
      ],
      "metadata": {
        "id": "3CGRXop1ko6T"
      },
      "execution_count": 187,
      "outputs": []
    },
    {
      "cell_type": "markdown",
      "source": [
        "Se muestran las metricas obtenidas con los modelos usando los mejores hiperparametros."
      ],
      "metadata": {
        "id": "9K4gwKzAn38v"
      }
    },
    {
      "cell_type": "code",
      "source": [
        "print(\"Best Precision KNN:\", precision_knnBest)\n",
        "print(\"Best RECALL KNN:   \", recall_knnBest)\n",
        "print(\"Best F1 SCORE KNN: \", f1_score_knnBest)\n",
        "print(\"\")\n",
        "print(\"Best Precision SVM Grid Search:\", precision_svmBest)\n",
        "print(\"Best RECALL SVM Grid Search:   \", recall_svmBest)\n",
        "print(\"Best F1 SCORE SVM Grid Search: \", f1_score_svmBest)\n",
        "print(\"\")\n",
        "print(\"Best Precision SVM Random Search:\", precision_svmBest_RS)\n",
        "print(\"Best RECALL SVM Random Search:   \", recall_svmBest_RS)\n",
        "print(\"Best F1 SCORE SVM Random Search: \", f1_score_svmBest_RS)\n",
        "print(\"\")\n",
        "print(\"Best Precision Decision Tree:\", precision_decision_tree_Best)\n",
        "print(\"Best Recall Decision Tree:   \", recall_decision_tree_Best)\n",
        "print(\"Best F1 SCORE Decision Tree: \", f1_score_decision_tree_Best)\n",
        "print(\"\")\n",
        "print(\"BEST Precision Naive Bayes:\", precisionNB)\n",
        "print(\"BEST Recall Naive Bayes:   \", recallNB)\n",
        "print(\"BEST F1 Score Naive Bayes  \", f1_score_NB)"
      ],
      "metadata": {
        "colab": {
          "base_uri": "https://localhost:8080/"
        },
        "id": "nBShSQxK750v",
        "outputId": "792828de-9d11-4848-c81f-efad8ac34c03"
      },
      "execution_count": 188,
      "outputs": [
        {
          "output_type": "stream",
          "name": "stdout",
          "text": [
            "Best Precision KNN: 0.756578947368421\n",
            "Best RECALL KNN:    0.5808080808080808\n",
            "Best F1 SCORE KNN:  0.6571428571428571\n",
            "\n",
            "Best Precision SVM Grid Search: 0.7251908396946565\n",
            "Best RECALL SVM Grid Search:    0.4797979797979798\n",
            "Best F1 SCORE SVM Grid Search:  0.5775075987841946\n",
            "\n",
            "Best Precision SVM Random Search: 0.6952380952380952\n",
            "Best RECALL SVM Random Search:    0.7373737373737373\n",
            "Best F1 SCORE SVM Random Search:  0.7156862745098039\n",
            "\n",
            "Best Precision Decision Tree: 0.6909090909090909\n",
            "Best Recall Decision Tree:    0.7676767676767676\n",
            "Best F1 SCORE Decision Tree:  0.7272727272727272\n",
            "\n",
            "BEST Precision Naive Bayes: 0.6217616580310881\n",
            "BEST Recall Naive Bayes:    0.6060606060606061\n",
            "BEST F1 Score Naive Bayes   0.6138107416879796\n"
          ]
        }
      ]
    },
    {
      "cell_type": "markdown",
      "source": [
        "Se Calculan y dibujan las matrices de confusion con los mejores hiperparametros \"BEST\""
      ],
      "metadata": {
        "id": "tCR3hXuYgZpI"
      }
    },
    {
      "cell_type": "code",
      "source": [
        "confusion_matrices_best = [\n",
        "    confusion_matrix(y_test, knnBest_pred),\n",
        "    confusion_matrix(y_test, svmBest_pred),\n",
        "    confusion_matrix(y_test, decision_tree_pred_Best),\n",
        "    confusion_matrix(y_test, y_pred_best_naive_bayes)\n",
        "]\n",
        "\n",
        "modelos = ['KNN', 'Árbol de Decisión','SVM Grid Search', 'SVM Random Search']\n",
        "\n",
        "fig, axes = plt.subplots(2, 2, figsize=(12, 10))\n",
        "\n",
        "for i, ax in enumerate(axes.ravel()):\n",
        "    sns.heatmap(confusion_matrices_best[i], annot=True, fmt='g', xticklabels=['Gusta', 'NO Gusta'], yticklabels=['Gusta', 'NO Gusta'], ax=ax)\n",
        "    ax.set_xlabel('Etiqueta predicha')\n",
        "    ax.set_ylabel('Etiqueta verdadera')\n",
        "    ax.set_title(f'Matriz de Confusión BEST {modelos[i]}')\n",
        "\n",
        "plt.tight_layout()\n",
        "plt.show()"
      ],
      "metadata": {
        "colab": {
          "base_uri": "https://localhost:8080/",
          "height": 1000
        },
        "id": "jvIMhYR4fSCI",
        "outputId": "72cdec3e-5f9c-4056-d411-38cf44d367f9"
      },
      "execution_count": 189,
      "outputs": [
        {
          "output_type": "display_data",
          "data": {
            "text/plain": [
              "<Figure size 1200x1000 with 8 Axes>"
            ],
            "image/png": "[encoded data removed]"
          },
          "metadata": {}
        }
      ]
    },
    {
      "cell_type": "markdown",
      "source": [
        "Se Grafican todas las metricas Precision para una mejor visualizacion y referencia de los valores obtenidos, se destaca el Modelo Ensamble."
      ],
      "metadata": {
        "id": "CfC1JwnY05OJ"
      }
    },
    {
      "cell_type": "code",
      "source": [
        "categoriasP = ['Precision KNN', 'Precision SVM', 'Precision Decision Tree', 'Precision Ensamble', 'Best Precision KNN', 'Best Precision SVM Grid Search', 'Best Precision SVM Random Search', 'Best Precision Decision Tree', 'BEST Precision Naive Bayes']\n",
        "valoresP = [precision_knn, precision_svm, precision_decision_tree, precision_ensamble, precision_knnBest, precision_svmBest, precision_svmBest_RS, precision_decision_tree_Best, precisionNB]\n",
        "\n",
        "dataP = pd.DataFrame({'Categorías': categoriasP, 'Valores': valoresP})\n",
        "\n",
        "fig = px.bar(dataP, x='Categorías', y='Valores', title='Metricas Precision',\n",
        "             labels={'Categorías': 'Categorías', 'Valores': 'Valores'},\n",
        "             text='Valores', color=categoriasP)\n",
        "\n",
        "fig.show()"
      ],
      "metadata": {
        "colab": {
          "base_uri": "https://localhost:8080/",
          "height": 542
        },
        "id": "z_I50Kc4zrPw",
        "outputId": "7bf5b6d6-1cf8-4611-bf85-d63c2316a45c"
      },
      "execution_count": 190,
      "outputs": [
        {
          "output_type": "display_data",
          "data": {
            "text/html": [
              "<html>\n",
              "<head><meta charset=\"utf-8\" /></head>\n",
              "<body>\n",
              "    <div>            <script src=\"https://cdnjs.cloudflare.com/ajax/libs/mathjax/2.7.5/MathJax.js?config=TeX-AMS-MML_SVG\"></script><script type=\"text/javascript\">if (window.MathJax && window.MathJax.Hub && window.MathJax.Hub.Config) {window.MathJax.Hub.Config({SVG: {font: \"STIX-Web\"}});}</script>                <script type=\"text/javascript\">window.PlotlyConfig = {MathJaxConfig: 'local'};</script>\n",
              "        <script charset=\"utf-8\" src=\"https://cdn.plot.ly/plotly-2.24.1.min.js\"></script>                <div id=\"7dcce6f3-b01f-4201-86b4-ca774d3ac760\" class=\"plotly-graph-div\" style=\"height:525px; width:100%;\"></div>            <script type=\"text/javascript\">                                    window.PLOTLYENV=window.PLOTLYENV || {};                                    if (document.getElementById(\"7dcce6f3-b01f-4201-86b4-ca774d3ac760\")) {                    Plotly.newPlot(                        \"7dcce6f3-b01f-4201-86b4-ca774d3ac760\",                        [{\"alignmentgroup\":\"True\",\"hovertemplate\":\"color=Precision KNN\\u003cbr\\u003eCategor\\u00edas=%{x}\\u003cbr\\u003eValores=%{text}\\u003cextra\\u003e\\u003c\\u002fextra\\u003e\",\"legendgroup\":\"Precision KNN\",\"marker\":{\"color\":\"#636efa\",\"pattern\":{\"shape\":\"\"}},\"name\":\"Precision KNN\",\"offsetgroup\":\"Precision KNN\",\"orientation\":\"v\",\"showlegend\":true,\"text\":[0.7168674698795181],\"textposition\":\"auto\",\"x\":[\"Precision KNN\"],\"xaxis\":\"x\",\"y\":[0.7168674698795181],\"yaxis\":\"y\",\"type\":\"bar\"},{\"alignmentgroup\":\"True\",\"hovertemplate\":\"color=Precision SVM\\u003cbr\\u003eCategor\\u00edas=%{x}\\u003cbr\\u003eValores=%{text}\\u003cextra\\u003e\\u003c\\u002fextra\\u003e\",\"legendgroup\":\"Precision SVM\",\"marker\":{\"color\":\"#EF553B\",\"pattern\":{\"shape\":\"\"}},\"name\":\"Precision SVM\",\"offsetgroup\":\"Precision SVM\",\"orientation\":\"v\",\"showlegend\":true,\"text\":[0.757396449704142],\"textposition\":\"auto\",\"x\":[\"Precision SVM\"],\"xaxis\":\"x\",\"y\":[0.757396449704142],\"yaxis\":\"y\",\"type\":\"bar\"},{\"alignmentgroup\":\"True\",\"hovertemplate\":\"color=Precision Decision Tree\\u003cbr\\u003eCategor\\u00edas=%{x}\\u003cbr\\u003eValores=%{text}\\u003cextra\\u003e\\u003c\\u002fextra\\u003e\",\"legendgroup\":\"Precision Decision Tree\",\"marker\":{\"color\":\"#00cc96\",\"pattern\":{\"shape\":\"\"}},\"name\":\"Precision Decision Tree\",\"offsetgroup\":\"Precision Decision Tree\",\"orientation\":\"v\",\"showlegend\":true,\"text\":[0.6465116279069767],\"textposition\":\"auto\",\"x\":[\"Precision Decision Tree\"],\"xaxis\":\"x\",\"y\":[0.6465116279069767],\"yaxis\":\"y\",\"type\":\"bar\"},{\"alignmentgroup\":\"True\",\"hovertemplate\":\"color=Precision Ensamble\\u003cbr\\u003eCategor\\u00edas=%{x}\\u003cbr\\u003eValores=%{text}\\u003cextra\\u003e\\u003c\\u002fextra\\u003e\",\"legendgroup\":\"Precision Ensamble\",\"marker\":{\"color\":\"#ab63fa\",\"pattern\":{\"shape\":\"\"}},\"name\":\"Precision Ensamble\",\"offsetgroup\":\"Precision Ensamble\",\"orientation\":\"v\",\"showlegend\":true,\"text\":[0.7622377622377622],\"textposition\":\"auto\",\"x\":[\"Precision Ensamble\"],\"xaxis\":\"x\",\"y\":[0.7622377622377622],\"yaxis\":\"y\",\"type\":\"bar\"},{\"alignmentgroup\":\"True\",\"hovertemplate\":\"color=Best Precision KNN\\u003cbr\\u003eCategor\\u00edas=%{x}\\u003cbr\\u003eValores=%{text}\\u003cextra\\u003e\\u003c\\u002fextra\\u003e\",\"legendgroup\":\"Best Precision KNN\",\"marker\":{\"color\":\"#FFA15A\",\"pattern\":{\"shape\":\"\"}},\"name\":\"Best Precision KNN\",\"offsetgroup\":\"Best Precision KNN\",\"orientation\":\"v\",\"showlegend\":true,\"text\":[0.756578947368421],\"textposition\":\"auto\",\"x\":[\"Best Precision KNN\"],\"xaxis\":\"x\",\"y\":[0.756578947368421],\"yaxis\":\"y\",\"type\":\"bar\"},{\"alignmentgroup\":\"True\",\"hovertemplate\":\"color=Best Precision SVM Grid Search\\u003cbr\\u003eCategor\\u00edas=%{x}\\u003cbr\\u003eValores=%{text}\\u003cextra\\u003e\\u003c\\u002fextra\\u003e\",\"legendgroup\":\"Best Precision SVM Grid Search\",\"marker\":{\"color\":\"#19d3f3\",\"pattern\":{\"shape\":\"\"}},\"name\":\"Best Precision SVM Grid Search\",\"offsetgroup\":\"Best Precision SVM Grid Search\",\"orientation\":\"v\",\"showlegend\":true,\"text\":[0.7251908396946565],\"textposition\":\"auto\",\"x\":[\"Best Precision SVM Grid Search\"],\"xaxis\":\"x\",\"y\":[0.7251908396946565],\"yaxis\":\"y\",\"type\":\"bar\"},{\"alignmentgroup\":\"True\",\"hovertemplate\":\"color=Best Precision SVM Random Search\\u003cbr\\u003eCategor\\u00edas=%{x}\\u003cbr\\u003eValores=%{text}\\u003cextra\\u003e\\u003c\\u002fextra\\u003e\",\"legendgroup\":\"Best Precision SVM Random Search\",\"marker\":{\"color\":\"#FF6692\",\"pattern\":{\"shape\":\"\"}},\"name\":\"Best Precision SVM Random Search\",\"offsetgroup\":\"Best Precision SVM Random Search\",\"orientation\":\"v\",\"showlegend\":true,\"text\":[0.6952380952380952],\"textposition\":\"auto\",\"x\":[\"Best Precision SVM Random Search\"],\"xaxis\":\"x\",\"y\":[0.6952380952380952],\"yaxis\":\"y\",\"type\":\"bar\"},{\"alignmentgroup\":\"True\",\"hovertemplate\":\"color=Best Precision Decision Tree\\u003cbr\\u003eCategor\\u00edas=%{x}\\u003cbr\\u003eValores=%{text}\\u003cextra\\u003e\\u003c\\u002fextra\\u003e\",\"legendgroup\":\"Best Precision Decision Tree\",\"marker\":{\"color\":\"#B6E880\",\"pattern\":{\"shape\":\"\"}},\"name\":\"Best Precision Decision Tree\",\"offsetgroup\":\"Best Precision Decision Tree\",\"orientation\":\"v\",\"showlegend\":true,\"text\":[0.6909090909090909],\"textposition\":\"auto\",\"x\":[\"Best Precision Decision Tree\"],\"xaxis\":\"x\",\"y\":[0.6909090909090909],\"yaxis\":\"y\",\"type\":\"bar\"},{\"alignmentgroup\":\"True\",\"hovertemplate\":\"color=BEST Precision Naive Bayes\\u003cbr\\u003eCategor\\u00edas=%{x}\\u003cbr\\u003eValores=%{text}\\u003cextra\\u003e\\u003c\\u002fextra\\u003e\",\"legendgroup\":\"BEST Precision Naive Bayes\",\"marker\":{\"color\":\"#FF97FF\",\"pattern\":{\"shape\":\"\"}},\"name\":\"BEST Precision Naive Bayes\",\"offsetgroup\":\"BEST Precision Naive Bayes\",\"orientation\":\"v\",\"showlegend\":true,\"text\":[0.6217616580310881],\"textposition\":\"auto\",\"x\":[\"BEST Precision Naive Bayes\"],\"xaxis\":\"x\",\"y\":[0.6217616580310881],\"yaxis\":\"y\",\"type\":\"bar\"}],                        {\"template\":{\"data\":{\"histogram2dcontour\":[{\"type\":\"histogram2dcontour\",\"colorbar\":{\"outlinewidth\":0,\"ticks\":\"\"},\"colorscale\":[[0.0,\"#0d0887\"],[0.1111111111111111,\"#46039f\"],[0.2222222222222222,\"#7201a8\"],[0.3333333333333333,\"#9c179e\"],[0.4444444444444444,\"#bd3786\"],[0.5555555555555556,\"#d8576b\"],[0.6666666666666666,\"#ed7953\"],[0.7777777777777778,\"#fb9f3a\"],[0.8888888888888888,\"#fdca26\"],[1.0,\"#f0f921\"]]}],\"choropleth\":[{\"type\":\"choropleth\",\"colorbar\":{\"outlinewidth\":0,\"ticks\":\"\"}}],\"histogram2d\":[{\"type\":\"histogram2d\",\"colorbar\":{\"outlinewidth\":0,\"ticks\":\"\"},\"colorscale\":[[0.0,\"#0d0887\"],[0.1111111111111111,\"#46039f\"],[0.2222222222222222,\"#7201a8\"],[0.3333333333333333,\"#9c179e\"],[0.4444444444444444,\"#bd3786\"],[0.5555555555555556,\"#d8576b\"],[0.6666666666666666,\"#ed7953\"],[0.7777777777777778,\"#fb9f3a\"],[0.8888888888888888,\"#fdca26\"],[1.0,\"#f0f921\"]]}],\"heatmap\":[{\"type\":\"heatmap\",\"colorbar\":{\"outlinewidth\":0,\"ticks\":\"\"},\"colorscale\":[[0.0,\"#0d0887\"],[0.1111111111111111,\"#46039f\"],[0.2222222222222222,\"#7201a8\"],[0.3333333333333333,\"#9c179e\"],[0.4444444444444444,\"#bd3786\"],[0.5555555555555556,\"#d8576b\"],[0.6666666666666666,\"#ed7953\"],[0.7777777777777778,\"#fb9f3a\"],[0.8888888888888888,\"#fdca26\"],[1.0,\"#f0f921\"]]}],\"heatmapgl\":[{\"type\":\"heatmapgl\",\"colorbar\":{\"outlinewidth\":0,\"ticks\":\"\"},\"colorscale\":[[0.0,\"#0d0887\"],[0.1111111111111111,\"#46039f\"],[0.2222222222222222,\"#7201a8\"],[0.3333333333333333,\"#9c179e\"],[0.4444444444444444,\"#bd3786\"],[0.5555555555555556,\"#d8576b\"],[0.6666666666666666,\"#ed7953\"],[0.7777777777777778,\"#fb9f3a\"],[0.8888888888888888,\"#fdca26\"],[1.0,\"#f0f921\"]]}],\"contourcarpet\":[{\"type\":\"contourcarpet\",\"colorbar\":{\"outlinewidth\":0,\"ticks\":\"\"}}],\"contour\":[{\"type\":\"contour\",\"colorbar\":{\"outlinewidth\":0,\"ticks\":\"\"},\"colorscale\":[[0.0,\"#0d0887\"],[0.1111111111111111,\"#46039f\"],[0.2222222222222222,\"#7201a8\"],[0.3333333333333333,\"#9c179e\"],[0.4444444444444444,\"#bd3786\"],[0.5555555555555556,\"#d8576b\"],[0.6666666666666666,\"#ed7953\"],[0.7777777777777778,\"#fb9f3a\"],[0.8888888888888888,\"#fdca26\"],[1.0,\"#f0f921\"]]}],\"surface\":[{\"type\":\"surface\",\"colorbar\":{\"outlinewidth\":0,\"ticks\":\"\"},\"colorscale\":[[0.0,\"#0d0887\"],[0.1111111111111111,\"#46039f\"],[0.2222222222222222,\"#7201a8\"],[0.3333333333333333,\"#9c179e\"],[0.4444444444444444,\"#bd3786\"],[0.5555555555555556,\"#d8576b\"],[0.6666666666666666,\"#ed7953\"],[0.7777777777777778,\"#fb9f3a\"],[0.8888888888888888,\"#fdca26\"],[1.0,\"#f0f921\"]]}],\"mesh3d\":[{\"type\":\"mesh3d\",\"colorbar\":{\"outlinewidth\":0,\"ticks\":\"\"}}],\"scatter\":[{\"fillpattern\":{\"fillmode\":\"overlay\",\"size\":10,\"solidity\":0.2},\"type\":\"scatter\"}],\"parcoords\":[{\"type\":\"parcoords\",\"line\":{\"colorbar\":{\"outlinewidth\":0,\"ticks\":\"\"}}}],\"scatterpolargl\":[{\"type\":\"scatterpolargl\",\"marker\":{\"colorbar\":{\"outlinewidth\":0,\"ticks\":\"\"}}}],\"bar\":[{\"error_x\":{\"color\":\"#2a3f5f\"},\"error_y\":{\"color\":\"#2a3f5f\"},\"marker\":{\"line\":{\"color\":\"#E5ECF6\",\"width\":0.5},\"pattern\":{\"fillmode\":\"overlay\",\"size\":10,\"solidity\":0.2}},\"type\":\"bar\"}],\"scattergeo\":[{\"type\":\"scattergeo\",\"marker\":{\"colorbar\":{\"outlinewidth\":0,\"ticks\":\"\"}}}],\"scatterpolar\":[{\"type\":\"scatterpolar\",\"marker\":{\"colorbar\":{\"outlinewidth\":0,\"ticks\":\"\"}}}],\"histogram\":[{\"marker\":{\"pattern\":{\"fillmode\":\"overlay\",\"size\":10,\"solidity\":0.2}},\"type\":\"histogram\"}],\"scattergl\":[{\"type\":\"scattergl\",\"marker\":{\"colorbar\":{\"outlinewidth\":0,\"ticks\":\"\"}}}],\"scatter3d\":[{\"type\":\"scatter3d\",\"line\":{\"colorbar\":{\"outlinewidth\":0,\"ticks\":\"\"}},\"marker\":{\"colorbar\":{\"outlinewidth\":0,\"ticks\":\"\"}}}],\"scattermapbox\":[{\"type\":\"scattermapbox\",\"marker\":{\"colorbar\":{\"outlinewidth\":0,\"ticks\":\"\"}}}],\"scatterternary\":[{\"type\":\"scatterternary\",\"marker\":{\"colorbar\":{\"outlinewidth\":0,\"ticks\":\"\"}}}],\"scattercarpet\":[{\"type\":\"scattercarpet\",\"marker\":{\"colorbar\":{\"outlinewidth\":0,\"ticks\":\"\"}}}],\"carpet\":[{\"aaxis\":{\"endlinecolor\":\"#2a3f5f\",\"gridcolor\":\"white\",\"linecolor\":\"white\",\"minorgridcolor\":\"white\",\"startlinecolor\":\"#2a3f5f\"},\"baxis\":{\"endlinecolor\":\"#2a3f5f\",\"gridcolor\":\"white\",\"linecolor\":\"white\",\"minorgridcolor\":\"white\",\"startlinecolor\":\"#2a3f5f\"},\"type\":\"carpet\"}],\"table\":[{\"cells\":{\"fill\":{\"color\":\"#EBF0F8\"},\"line\":{\"color\":\"white\"}},\"header\":{\"fill\":{\"color\":\"#C8D4E3\"},\"line\":{\"color\":\"white\"}},\"type\":\"table\"}],\"barpolar\":[{\"marker\":{\"line\":{\"color\":\"#E5ECF6\",\"width\":0.5},\"pattern\":{\"fillmode\":\"overlay\",\"size\":10,\"solidity\":0.2}},\"type\":\"barpolar\"}],\"pie\":[{\"automargin\":true,\"type\":\"pie\"}]},\"layout\":{\"autotypenumbers\":\"strict\",\"colorway\":[\"#636efa\",\"#EF553B\",\"#00cc96\",\"#ab63fa\",\"#FFA15A\",\"#19d3f3\",\"#FF6692\",\"#B6E880\",\"#FF97FF\",\"#FECB52\"],\"font\":{\"color\":\"#2a3f5f\"},\"hovermode\":\"closest\",\"hoverlabel\":{\"align\":\"left\"},\"paper_bgcolor\":\"white\",\"plot_bgcolor\":\"#E5ECF6\",\"polar\":{\"bgcolor\":\"#E5ECF6\",\"angularaxis\":{\"gridcolor\":\"white\",\"linecolor\":\"white\",\"ticks\":\"\"},\"radialaxis\":{\"gridcolor\":\"white\",\"linecolor\":\"white\",\"ticks\":\"\"}},\"ternary\":{\"bgcolor\":\"#E5ECF6\",\"aaxis\":{\"gridcolor\":\"white\",\"linecolor\":\"white\",\"ticks\":\"\"},\"baxis\":{\"gridcolor\":\"white\",\"linecolor\":\"white\",\"ticks\":\"\"},\"caxis\":{\"gridcolor\":\"white\",\"linecolor\":\"white\",\"ticks\":\"\"}},\"coloraxis\":{\"colorbar\":{\"outlinewidth\":0,\"ticks\":\"\"}},\"colorscale\":{\"sequential\":[[0.0,\"#0d0887\"],[0.1111111111111111,\"#46039f\"],[0.2222222222222222,\"#7201a8\"],[0.3333333333333333,\"#9c179e\"],[0.4444444444444444,\"#bd3786\"],[0.5555555555555556,\"#d8576b\"],[0.6666666666666666,\"#ed7953\"],[0.7777777777777778,\"#fb9f3a\"],[0.8888888888888888,\"#fdca26\"],[1.0,\"#f0f921\"]],\"sequentialminus\":[[0.0,\"#0d0887\"],[0.1111111111111111,\"#46039f\"],[0.2222222222222222,\"#7201a8\"],[0.3333333333333333,\"#9c179e\"],[0.4444444444444444,\"#bd3786\"],[0.5555555555555556,\"#d8576b\"],[0.6666666666666666,\"#ed7953\"],[0.7777777777777778,\"#fb9f3a\"],[0.8888888888888888,\"#fdca26\"],[1.0,\"#f0f921\"]],\"diverging\":[[0,\"#8e0152\"],[0.1,\"#c51b7d\"],[0.2,\"#de77ae\"],[0.3,\"#f1b6da\"],[0.4,\"#fde0ef\"],[0.5,\"#f7f7f7\"],[0.6,\"#e6f5d0\"],[0.7,\"#b8e186\"],[0.8,\"#7fbc41\"],[0.9,\"#4d9221\"],[1,\"#276419\"]]},\"xaxis\":{\"gridcolor\":\"white\",\"linecolor\":\"white\",\"ticks\":\"\",\"title\":{\"standoff\":15},\"zerolinecolor\":\"white\",\"automargin\":true,\"zerolinewidth\":2},\"yaxis\":{\"gridcolor\":\"white\",\"linecolor\":\"white\",\"ticks\":\"\",\"title\":{\"standoff\":15},\"zerolinecolor\":\"white\",\"automargin\":true,\"zerolinewidth\":2},\"scene\":{\"xaxis\":{\"backgroundcolor\":\"#E5ECF6\",\"gridcolor\":\"white\",\"linecolor\":\"white\",\"showbackground\":true,\"ticks\":\"\",\"zerolinecolor\":\"white\",\"gridwidth\":2},\"yaxis\":{\"backgroundcolor\":\"#E5ECF6\",\"gridcolor\":\"white\",\"linecolor\":\"white\",\"showbackground\":true,\"ticks\":\"\",\"zerolinecolor\":\"white\",\"gridwidth\":2},\"zaxis\":{\"backgroundcolor\":\"#E5ECF6\",\"gridcolor\":\"white\",\"linecolor\":\"white\",\"showbackground\":true,\"ticks\":\"\",\"zerolinecolor\":\"white\",\"gridwidth\":2}},\"shapedefaults\":{\"line\":{\"color\":\"#2a3f5f\"}},\"annotationdefaults\":{\"arrowcolor\":\"#2a3f5f\",\"arrowhead\":0,\"arrowwidth\":1},\"geo\":{\"bgcolor\":\"white\",\"landcolor\":\"#E5ECF6\",\"subunitcolor\":\"white\",\"showland\":true,\"showlakes\":true,\"lakecolor\":\"white\"},\"title\":{\"x\":0.05},\"mapbox\":{\"style\":\"light\"}}},\"xaxis\":{\"anchor\":\"y\",\"domain\":[0.0,1.0],\"title\":{\"text\":\"Categor\\u00edas\"}},\"yaxis\":{\"anchor\":\"x\",\"domain\":[0.0,1.0],\"title\":{\"text\":\"Valores\"}},\"legend\":{\"title\":{\"text\":\"color\"},\"tracegroupgap\":0},\"title\":{\"text\":\"Metricas Precision\"},\"barmode\":\"relative\"},                        {\"responsive\": true}                    ).then(function(){\n",
              "                            \n",
              "var gd = document.getElementById('7dcce6f3-b01f-4201-86b4-ca774d3ac760');\n",
              "var x = new MutationObserver(function (mutations, observer) {{\n",
              "        var display = window.getComputedStyle(gd).display;\n",
              "        if (!display || display === 'none') {{\n",
              "            console.log([gd, 'removed!']);\n",
              "            Plotly.purge(gd);\n",
              "            observer.disconnect();\n",
              "        }}\n",
              "}});\n",
              "\n",
              "// Listen for the removal of the full notebook cells\n",
              "var notebookContainer = gd.closest('#notebook-container');\n",
              "if (notebookContainer) {{\n",
              "    x.observe(notebookContainer, {childList: true});\n",
              "}}\n",
              "\n",
              "// Listen for the clearing of the current output cell\n",
              "var outputEl = gd.closest('.output');\n",
              "if (outputEl) {{\n",
              "    x.observe(outputEl, {childList: true});\n",
              "}}\n",
              "\n",
              "                        })                };                            </script>        </div>\n",
              "</body>\n",
              "</html>"
            ]
          },
          "metadata": {}
        }
      ]
    },
    {
      "cell_type": "markdown",
      "source": [
        "Se Grafican todas las metricas Recall para una mejor visualizacion y referencia de los valores obtenidos, Se destaca el modelo Decision Tree."
      ],
      "metadata": {
        "id": "RbKYDfkZ-HVm"
      }
    },
    {
      "cell_type": "code",
      "source": [
        "categoriasR = ['Recall KNN', 'Recall SVM', 'Recall Decision Tree', 'Recall Naive Bayes', 'Recall Ensamble', 'Best Recall KNN', 'Best Recall SVM Grid Search', 'Best Recall SVM Random Search', 'Best Recall Decision Tree', 'BEST Recall Naive Bayes']\n",
        "valoresR = [recall_knn, recall_svm, recall_decision_tree, recall_naive_bayes, recall_ensamble, recall_knnBest, recall_svmBest, recall_svmBest_RS, recall_decision_tree_Best, recallNB]\n",
        "\n",
        "dataR = pd.DataFrame({'Categorías': categoriasR, 'Valores': valoresR})\n",
        "\n",
        "fig = px.bar(dataR, x='Categorías', y='Valores', title='Metricas Recall',\n",
        "             labels={'Categorías': 'Categorías', 'Valores': 'Valores'},\n",
        "             text='Valores', color=categoriasR)\n",
        "\n",
        "fig.show()"
      ],
      "metadata": {
        "colab": {
          "base_uri": "https://localhost:8080/",
          "height": 542
        },
        "id": "bS4vCTyL4Fgw",
        "outputId": "9dbd8650-7fc5-4104-8ee5-b900f79195d6"
      },
      "execution_count": 191,
      "outputs": [
        {
          "output_type": "display_data",
          "data": {
            "text/html": [
              "<html>\n",
              "<head><meta charset=\"utf-8\" /></head>\n",
              "<body>\n",
              "    <div>            <script src=\"https://cdnjs.cloudflare.com/ajax/libs/mathjax/2.7.5/MathJax.js?config=TeX-AMS-MML_SVG\"></script><script type=\"text/javascript\">if (window.MathJax && window.MathJax.Hub && window.MathJax.Hub.Config) {window.MathJax.Hub.Config({SVG: {font: \"STIX-Web\"}});}</script>                <script type=\"text/javascript\">window.PlotlyConfig = {MathJaxConfig: 'local'};</script>\n",
              "        <script charset=\"utf-8\" src=\"https://cdn.plot.ly/plotly-2.24.1.min.js\"></script>                <div id=\"d775eebd-2494-4a1e-ba57-4d13a724f951\" class=\"plotly-graph-div\" style=\"height:525px; width:100%;\"></div>            <script type=\"text/javascript\">                                    window.PLOTLYENV=window.PLOTLYENV || {};                                    if (document.getElementById(\"d775eebd-2494-4a1e-ba57-4d13a724f951\")) {                    Plotly.newPlot(                        \"d775eebd-2494-4a1e-ba57-4d13a724f951\",                        [{\"alignmentgroup\":\"True\",\"hovertemplate\":\"color=Recall KNN\\u003cbr\\u003eCategor\\u00edas=%{x}\\u003cbr\\u003eValores=%{text}\\u003cextra\\u003e\\u003c\\u002fextra\\u003e\",\"legendgroup\":\"Recall KNN\",\"marker\":{\"color\":\"#636efa\",\"pattern\":{\"shape\":\"\"}},\"name\":\"Recall KNN\",\"offsetgroup\":\"Recall KNN\",\"orientation\":\"v\",\"showlegend\":true,\"text\":[0.601010101010101],\"textposition\":\"auto\",\"x\":[\"Recall KNN\"],\"xaxis\":\"x\",\"y\":[0.601010101010101],\"yaxis\":\"y\",\"type\":\"bar\"},{\"alignmentgroup\":\"True\",\"hovertemplate\":\"color=Recall SVM\\u003cbr\\u003eCategor\\u00edas=%{x}\\u003cbr\\u003eValores=%{text}\\u003cextra\\u003e\\u003c\\u002fextra\\u003e\",\"legendgroup\":\"Recall SVM\",\"marker\":{\"color\":\"#EF553B\",\"pattern\":{\"shape\":\"\"}},\"name\":\"Recall SVM\",\"offsetgroup\":\"Recall SVM\",\"orientation\":\"v\",\"showlegend\":true,\"text\":[0.6464646464646465],\"textposition\":\"auto\",\"x\":[\"Recall SVM\"],\"xaxis\":\"x\",\"y\":[0.6464646464646465],\"yaxis\":\"y\",\"type\":\"bar\"},{\"alignmentgroup\":\"True\",\"hovertemplate\":\"color=Recall Decision Tree\\u003cbr\\u003eCategor\\u00edas=%{x}\\u003cbr\\u003eValores=%{text}\\u003cextra\\u003e\\u003c\\u002fextra\\u003e\",\"legendgroup\":\"Recall Decision Tree\",\"marker\":{\"color\":\"#00cc96\",\"pattern\":{\"shape\":\"\"}},\"name\":\"Recall Decision Tree\",\"offsetgroup\":\"Recall Decision Tree\",\"orientation\":\"v\",\"showlegend\":true,\"text\":[0.702020202020202],\"textposition\":\"auto\",\"x\":[\"Recall Decision Tree\"],\"xaxis\":\"x\",\"y\":[0.702020202020202],\"yaxis\":\"y\",\"type\":\"bar\"},{\"alignmentgroup\":\"True\",\"hovertemplate\":\"color=Recall Naive Bayes\\u003cbr\\u003eCategor\\u00edas=%{x}\\u003cbr\\u003eValores=%{text}\\u003cextra\\u003e\\u003c\\u002fextra\\u003e\",\"legendgroup\":\"Recall Naive Bayes\",\"marker\":{\"color\":\"#ab63fa\",\"pattern\":{\"shape\":\"\"}},\"name\":\"Recall Naive Bayes\",\"offsetgroup\":\"Recall Naive Bayes\",\"orientation\":\"v\",\"showlegend\":true,\"text\":[0.6060606060606061],\"textposition\":\"auto\",\"x\":[\"Recall Naive Bayes\"],\"xaxis\":\"x\",\"y\":[0.6060606060606061],\"yaxis\":\"y\",\"type\":\"bar\"},{\"alignmentgroup\":\"True\",\"hovertemplate\":\"color=Recall Ensamble\\u003cbr\\u003eCategor\\u00edas=%{x}\\u003cbr\\u003eValores=%{text}\\u003cextra\\u003e\\u003c\\u002fextra\\u003e\",\"legendgroup\":\"Recall Ensamble\",\"marker\":{\"color\":\"#FFA15A\",\"pattern\":{\"shape\":\"\"}},\"name\":\"Recall Ensamble\",\"offsetgroup\":\"Recall Ensamble\",\"orientation\":\"v\",\"showlegend\":true,\"text\":[0.5505050505050505],\"textposition\":\"auto\",\"x\":[\"Recall Ensamble\"],\"xaxis\":\"x\",\"y\":[0.5505050505050505],\"yaxis\":\"y\",\"type\":\"bar\"},{\"alignmentgroup\":\"True\",\"hovertemplate\":\"color=Best Recall KNN\\u003cbr\\u003eCategor\\u00edas=%{x}\\u003cbr\\u003eValores=%{text}\\u003cextra\\u003e\\u003c\\u002fextra\\u003e\",\"legendgroup\":\"Best Recall KNN\",\"marker\":{\"color\":\"#19d3f3\",\"pattern\":{\"shape\":\"\"}},\"name\":\"Best Recall KNN\",\"offsetgroup\":\"Best Recall KNN\",\"orientation\":\"v\",\"showlegend\":true,\"text\":[0.5808080808080808],\"textposition\":\"auto\",\"x\":[\"Best Recall KNN\"],\"xaxis\":\"x\",\"y\":[0.5808080808080808],\"yaxis\":\"y\",\"type\":\"bar\"},{\"alignmentgroup\":\"True\",\"hovertemplate\":\"color=Best Recall SVM Grid Search\\u003cbr\\u003eCategor\\u00edas=%{x}\\u003cbr\\u003eValores=%{text}\\u003cextra\\u003e\\u003c\\u002fextra\\u003e\",\"legendgroup\":\"Best Recall SVM Grid Search\",\"marker\":{\"color\":\"#FF6692\",\"pattern\":{\"shape\":\"\"}},\"name\":\"Best Recall SVM Grid Search\",\"offsetgroup\":\"Best Recall SVM Grid Search\",\"orientation\":\"v\",\"showlegend\":true,\"text\":[0.4797979797979798],\"textposition\":\"auto\",\"x\":[\"Best Recall SVM Grid Search\"],\"xaxis\":\"x\",\"y\":[0.4797979797979798],\"yaxis\":\"y\",\"type\":\"bar\"},{\"alignmentgroup\":\"True\",\"hovertemplate\":\"color=Best Recall SVM Random Search\\u003cbr\\u003eCategor\\u00edas=%{x}\\u003cbr\\u003eValores=%{text}\\u003cextra\\u003e\\u003c\\u002fextra\\u003e\",\"legendgroup\":\"Best Recall SVM Random Search\",\"marker\":{\"color\":\"#B6E880\",\"pattern\":{\"shape\":\"\"}},\"name\":\"Best Recall SVM Random Search\",\"offsetgroup\":\"Best Recall SVM Random Search\",\"orientation\":\"v\",\"showlegend\":true,\"text\":[0.7373737373737373],\"textposition\":\"auto\",\"x\":[\"Best Recall SVM Random Search\"],\"xaxis\":\"x\",\"y\":[0.7373737373737373],\"yaxis\":\"y\",\"type\":\"bar\"},{\"alignmentgroup\":\"True\",\"hovertemplate\":\"color=Best Recall Decision Tree\\u003cbr\\u003eCategor\\u00edas=%{x}\\u003cbr\\u003eValores=%{text}\\u003cextra\\u003e\\u003c\\u002fextra\\u003e\",\"legendgroup\":\"Best Recall Decision Tree\",\"marker\":{\"color\":\"#FF97FF\",\"pattern\":{\"shape\":\"\"}},\"name\":\"Best Recall Decision Tree\",\"offsetgroup\":\"Best Recall Decision Tree\",\"orientation\":\"v\",\"showlegend\":true,\"text\":[0.7676767676767676],\"textposition\":\"auto\",\"x\":[\"Best Recall Decision Tree\"],\"xaxis\":\"x\",\"y\":[0.7676767676767676],\"yaxis\":\"y\",\"type\":\"bar\"},{\"alignmentgroup\":\"True\",\"hovertemplate\":\"color=BEST Recall Naive Bayes\\u003cbr\\u003eCategor\\u00edas=%{x}\\u003cbr\\u003eValores=%{text}\\u003cextra\\u003e\\u003c\\u002fextra\\u003e\",\"legendgroup\":\"BEST Recall Naive Bayes\",\"marker\":{\"color\":\"#FECB52\",\"pattern\":{\"shape\":\"\"}},\"name\":\"BEST Recall Naive Bayes\",\"offsetgroup\":\"BEST Recall Naive Bayes\",\"orientation\":\"v\",\"showlegend\":true,\"text\":[0.6060606060606061],\"textposition\":\"auto\",\"x\":[\"BEST Recall Naive Bayes\"],\"xaxis\":\"x\",\"y\":[0.6060606060606061],\"yaxis\":\"y\",\"type\":\"bar\"}],                        {\"template\":{\"data\":{\"histogram2dcontour\":[{\"type\":\"histogram2dcontour\",\"colorbar\":{\"outlinewidth\":0,\"ticks\":\"\"},\"colorscale\":[[0.0,\"#0d0887\"],[0.1111111111111111,\"#46039f\"],[0.2222222222222222,\"#7201a8\"],[0.3333333333333333,\"#9c179e\"],[0.4444444444444444,\"#bd3786\"],[0.5555555555555556,\"#d8576b\"],[0.6666666666666666,\"#ed7953\"],[0.7777777777777778,\"#fb9f3a\"],[0.8888888888888888,\"#fdca26\"],[1.0,\"#f0f921\"]]}],\"choropleth\":[{\"type\":\"choropleth\",\"colorbar\":{\"outlinewidth\":0,\"ticks\":\"\"}}],\"histogram2d\":[{\"type\":\"histogram2d\",\"colorbar\":{\"outlinewidth\":0,\"ticks\":\"\"},\"colorscale\":[[0.0,\"#0d0887\"],[0.1111111111111111,\"#46039f\"],[0.2222222222222222,\"#7201a8\"],[0.3333333333333333,\"#9c179e\"],[0.4444444444444444,\"#bd3786\"],[0.5555555555555556,\"#d8576b\"],[0.6666666666666666,\"#ed7953\"],[0.7777777777777778,\"#fb9f3a\"],[0.8888888888888888,\"#fdca26\"],[1.0,\"#f0f921\"]]}],\"heatmap\":[{\"type\":\"heatmap\",\"colorbar\":{\"outlinewidth\":0,\"ticks\":\"\"},\"colorscale\":[[0.0,\"#0d0887\"],[0.1111111111111111,\"#46039f\"],[0.2222222222222222,\"#7201a8\"],[0.3333333333333333,\"#9c179e\"],[0.4444444444444444,\"#bd3786\"],[0.5555555555555556,\"#d8576b\"],[0.6666666666666666,\"#ed7953\"],[0.7777777777777778,\"#fb9f3a\"],[0.8888888888888888,\"#fdca26\"],[1.0,\"#f0f921\"]]}],\"heatmapgl\":[{\"type\":\"heatmapgl\",\"colorbar\":{\"outlinewidth\":0,\"ticks\":\"\"},\"colorscale\":[[0.0,\"#0d0887\"],[0.1111111111111111,\"#46039f\"],[0.2222222222222222,\"#7201a8\"],[0.3333333333333333,\"#9c179e\"],[0.4444444444444444,\"#bd3786\"],[0.5555555555555556,\"#d8576b\"],[0.6666666666666666,\"#ed7953\"],[0.7777777777777778,\"#fb9f3a\"],[0.8888888888888888,\"#fdca26\"],[1.0,\"#f0f921\"]]}],\"contourcarpet\":[{\"type\":\"contourcarpet\",\"colorbar\":{\"outlinewidth\":0,\"ticks\":\"\"}}],\"contour\":[{\"type\":\"contour\",\"colorbar\":{\"outlinewidth\":0,\"ticks\":\"\"},\"colorscale\":[[0.0,\"#0d0887\"],[0.1111111111111111,\"#46039f\"],[0.2222222222222222,\"#7201a8\"],[0.3333333333333333,\"#9c179e\"],[0.4444444444444444,\"#bd3786\"],[0.5555555555555556,\"#d8576b\"],[0.6666666666666666,\"#ed7953\"],[0.7777777777777778,\"#fb9f3a\"],[0.8888888888888888,\"#fdca26\"],[1.0,\"#f0f921\"]]}],\"surface\":[{\"type\":\"surface\",\"colorbar\":{\"outlinewidth\":0,\"ticks\":\"\"},\"colorscale\":[[0.0,\"#0d0887\"],[0.1111111111111111,\"#46039f\"],[0.2222222222222222,\"#7201a8\"],[0.3333333333333333,\"#9c179e\"],[0.4444444444444444,\"#bd3786\"],[0.5555555555555556,\"#d8576b\"],[0.6666666666666666,\"#ed7953\"],[0.7777777777777778,\"#fb9f3a\"],[0.8888888888888888,\"#fdca26\"],[1.0,\"#f0f921\"]]}],\"mesh3d\":[{\"type\":\"mesh3d\",\"colorbar\":{\"outlinewidth\":0,\"ticks\":\"\"}}],\"scatter\":[{\"fillpattern\":{\"fillmode\":\"overlay\",\"size\":10,\"solidity\":0.2},\"type\":\"scatter\"}],\"parcoords\":[{\"type\":\"parcoords\",\"line\":{\"colorbar\":{\"outlinewidth\":0,\"ticks\":\"\"}}}],\"scatterpolargl\":[{\"type\":\"scatterpolargl\",\"marker\":{\"colorbar\":{\"outlinewidth\":0,\"ticks\":\"\"}}}],\"bar\":[{\"error_x\":{\"color\":\"#2a3f5f\"},\"error_y\":{\"color\":\"#2a3f5f\"},\"marker\":{\"line\":{\"color\":\"#E5ECF6\",\"width\":0.5},\"pattern\":{\"fillmode\":\"overlay\",\"size\":10,\"solidity\":0.2}},\"type\":\"bar\"}],\"scattergeo\":[{\"type\":\"scattergeo\",\"marker\":{\"colorbar\":{\"outlinewidth\":0,\"ticks\":\"\"}}}],\"scatterpolar\":[{\"type\":\"scatterpolar\",\"marker\":{\"colorbar\":{\"outlinewidth\":0,\"ticks\":\"\"}}}],\"histogram\":[{\"marker\":{\"pattern\":{\"fillmode\":\"overlay\",\"size\":10,\"solidity\":0.2}},\"type\":\"histogram\"}],\"scattergl\":[{\"type\":\"scattergl\",\"marker\":{\"colorbar\":{\"outlinewidth\":0,\"ticks\":\"\"}}}],\"scatter3d\":[{\"type\":\"scatter3d\",\"line\":{\"colorbar\":{\"outlinewidth\":0,\"ticks\":\"\"}},\"marker\":{\"colorbar\":{\"outlinewidth\":0,\"ticks\":\"\"}}}],\"scattermapbox\":[{\"type\":\"scattermapbox\",\"marker\":{\"colorbar\":{\"outlinewidth\":0,\"ticks\":\"\"}}}],\"scatterternary\":[{\"type\":\"scatterternary\",\"marker\":{\"colorbar\":{\"outlinewidth\":0,\"ticks\":\"\"}}}],\"scattercarpet\":[{\"type\":\"scattercarpet\",\"marker\":{\"colorbar\":{\"outlinewidth\":0,\"ticks\":\"\"}}}],\"carpet\":[{\"aaxis\":{\"endlinecolor\":\"#2a3f5f\",\"gridcolor\":\"white\",\"linecolor\":\"white\",\"minorgridcolor\":\"white\",\"startlinecolor\":\"#2a3f5f\"},\"baxis\":{\"endlinecolor\":\"#2a3f5f\",\"gridcolor\":\"white\",\"linecolor\":\"white\",\"minorgridcolor\":\"white\",\"startlinecolor\":\"#2a3f5f\"},\"type\":\"carpet\"}],\"table\":[{\"cells\":{\"fill\":{\"color\":\"#EBF0F8\"},\"line\":{\"color\":\"white\"}},\"header\":{\"fill\":{\"color\":\"#C8D4E3\"},\"line\":{\"color\":\"white\"}},\"type\":\"table\"}],\"barpolar\":[{\"marker\":{\"line\":{\"color\":\"#E5ECF6\",\"width\":0.5},\"pattern\":{\"fillmode\":\"overlay\",\"size\":10,\"solidity\":0.2}},\"type\":\"barpolar\"}],\"pie\":[{\"automargin\":true,\"type\":\"pie\"}]},\"layout\":{\"autotypenumbers\":\"strict\",\"colorway\":[\"#636efa\",\"#EF553B\",\"#00cc96\",\"#ab63fa\",\"#FFA15A\",\"#19d3f3\",\"#FF6692\",\"#B6E880\",\"#FF97FF\",\"#FECB52\"],\"font\":{\"color\":\"#2a3f5f\"},\"hovermode\":\"closest\",\"hoverlabel\":{\"align\":\"left\"},\"paper_bgcolor\":\"white\",\"plot_bgcolor\":\"#E5ECF6\",\"polar\":{\"bgcolor\":\"#E5ECF6\",\"angularaxis\":{\"gridcolor\":\"white\",\"linecolor\":\"white\",\"ticks\":\"\"},\"radialaxis\":{\"gridcolor\":\"white\",\"linecolor\":\"white\",\"ticks\":\"\"}},\"ternary\":{\"bgcolor\":\"#E5ECF6\",\"aaxis\":{\"gridcolor\":\"white\",\"linecolor\":\"white\",\"ticks\":\"\"},\"baxis\":{\"gridcolor\":\"white\",\"linecolor\":\"white\",\"ticks\":\"\"},\"caxis\":{\"gridcolor\":\"white\",\"linecolor\":\"white\",\"ticks\":\"\"}},\"coloraxis\":{\"colorbar\":{\"outlinewidth\":0,\"ticks\":\"\"}},\"colorscale\":{\"sequential\":[[0.0,\"#0d0887\"],[0.1111111111111111,\"#46039f\"],[0.2222222222222222,\"#7201a8\"],[0.3333333333333333,\"#9c179e\"],[0.4444444444444444,\"#bd3786\"],[0.5555555555555556,\"#d8576b\"],[0.6666666666666666,\"#ed7953\"],[0.7777777777777778,\"#fb9f3a\"],[0.8888888888888888,\"#fdca26\"],[1.0,\"#f0f921\"]],\"sequentialminus\":[[0.0,\"#0d0887\"],[0.1111111111111111,\"#46039f\"],[0.2222222222222222,\"#7201a8\"],[0.3333333333333333,\"#9c179e\"],[0.4444444444444444,\"#bd3786\"],[0.5555555555555556,\"#d8576b\"],[0.6666666666666666,\"#ed7953\"],[0.7777777777777778,\"#fb9f3a\"],[0.8888888888888888,\"#fdca26\"],[1.0,\"#f0f921\"]],\"diverging\":[[0,\"#8e0152\"],[0.1,\"#c51b7d\"],[0.2,\"#de77ae\"],[0.3,\"#f1b6da\"],[0.4,\"#fde0ef\"],[0.5,\"#f7f7f7\"],[0.6,\"#e6f5d0\"],[0.7,\"#b8e186\"],[0.8,\"#7fbc41\"],[0.9,\"#4d9221\"],[1,\"#276419\"]]},\"xaxis\":{\"gridcolor\":\"white\",\"linecolor\":\"white\",\"ticks\":\"\",\"title\":{\"standoff\":15},\"zerolinecolor\":\"white\",\"automargin\":true,\"zerolinewidth\":2},\"yaxis\":{\"gridcolor\":\"white\",\"linecolor\":\"white\",\"ticks\":\"\",\"title\":{\"standoff\":15},\"zerolinecolor\":\"white\",\"automargin\":true,\"zerolinewidth\":2},\"scene\":{\"xaxis\":{\"backgroundcolor\":\"#E5ECF6\",\"gridcolor\":\"white\",\"linecolor\":\"white\",\"showbackground\":true,\"ticks\":\"\",\"zerolinecolor\":\"white\",\"gridwidth\":2},\"yaxis\":{\"backgroundcolor\":\"#E5ECF6\",\"gridcolor\":\"white\",\"linecolor\":\"white\",\"showbackground\":true,\"ticks\":\"\",\"zerolinecolor\":\"white\",\"gridwidth\":2},\"zaxis\":{\"backgroundcolor\":\"#E5ECF6\",\"gridcolor\":\"white\",\"linecolor\":\"white\",\"showbackground\":true,\"ticks\":\"\",\"zerolinecolor\":\"white\",\"gridwidth\":2}},\"shapedefaults\":{\"line\":{\"color\":\"#2a3f5f\"}},\"annotationdefaults\":{\"arrowcolor\":\"#2a3f5f\",\"arrowhead\":0,\"arrowwidth\":1},\"geo\":{\"bgcolor\":\"white\",\"landcolor\":\"#E5ECF6\",\"subunitcolor\":\"white\",\"showland\":true,\"showlakes\":true,\"lakecolor\":\"white\"},\"title\":{\"x\":0.05},\"mapbox\":{\"style\":\"light\"}}},\"xaxis\":{\"anchor\":\"y\",\"domain\":[0.0,1.0],\"title\":{\"text\":\"Categor\\u00edas\"}},\"yaxis\":{\"anchor\":\"x\",\"domain\":[0.0,1.0],\"title\":{\"text\":\"Valores\"}},\"legend\":{\"title\":{\"text\":\"color\"},\"tracegroupgap\":0},\"title\":{\"text\":\"Metricas Recall\"},\"barmode\":\"relative\"},                        {\"responsive\": true}                    ).then(function(){\n",
              "                            \n",
              "var gd = document.getElementById('d775eebd-2494-4a1e-ba57-4d13a724f951');\n",
              "var x = new MutationObserver(function (mutations, observer) {{\n",
              "        var display = window.getComputedStyle(gd).display;\n",
              "        if (!display || display === 'none') {{\n",
              "            console.log([gd, 'removed!']);\n",
              "            Plotly.purge(gd);\n",
              "            observer.disconnect();\n",
              "        }}\n",
              "}});\n",
              "\n",
              "// Listen for the removal of the full notebook cells\n",
              "var notebookContainer = gd.closest('#notebook-container');\n",
              "if (notebookContainer) {{\n",
              "    x.observe(notebookContainer, {childList: true});\n",
              "}}\n",
              "\n",
              "// Listen for the clearing of the current output cell\n",
              "var outputEl = gd.closest('.output');\n",
              "if (outputEl) {{\n",
              "    x.observe(outputEl, {childList: true});\n",
              "}}\n",
              "\n",
              "                        })                };                            </script>        </div>\n",
              "</body>\n",
              "</html>"
            ]
          },
          "metadata": {}
        }
      ]
    },
    {
      "cell_type": "markdown",
      "source": [
        "Se Grafican todas las metricas F1 Score para una mejor visualizacion y referencia de los valores obtenidos, Se destaca el modelo BEST Decision Tree."
      ],
      "metadata": {
        "id": "rN5jVKm2-Lu5"
      }
    },
    {
      "cell_type": "code",
      "source": [
        "categoriasF = ['F1 Score KNN', 'F1 Score SVM', 'Decision Tree F1 Score', 'Naive Bayes F1 Score', 'F1 Score Ensamble', 'Best KNN F1 Score', 'Best SVM F1 Score Grid Search', 'Best SVM F1 Score Random Search','Best Decision Tree F1 SCORE', 'BEST Naive Bayes F1 Score']\n",
        "valoresF = [f1_score_knn, f1_score_svm, f1_score_decision_tree, f1_score_naive_bayes, f1_score_ensamble, f1_score_knnBest, f1_score_svmBest, f1_score_svmBest_RS, f1_score_decision_tree_Best, f1_score_NB]\n",
        "\n",
        "dataF = pd.DataFrame({'Categorías': categoriasF, 'Valores': valoresF})\n",
        "\n",
        "fig = px.bar(dataF, x='Categorías', y='Valores', title='Metricas F1 Score',\n",
        "             labels={'Categorías': 'Categorías', 'Valores': 'Valores'},\n",
        "             text='Valores', color=categoriasF)\n",
        "\n",
        "fig.show()"
      ],
      "metadata": {
        "colab": {
          "base_uri": "https://localhost:8080/",
          "height": 542
        },
        "id": "MX4StT9X61hM",
        "outputId": "d6876905-22d9-4cd0-af7e-e1fbf4215a53"
      },
      "execution_count": 192,
      "outputs": [
        {
          "output_type": "display_data",
          "data": {
            "text/html": [
              "<html>\n",
              "<head><meta charset=\"utf-8\" /></head>\n",
              "<body>\n",
              "    <div>            <script src=\"https://cdnjs.cloudflare.com/ajax/libs/mathjax/2.7.5/MathJax.js?config=TeX-AMS-MML_SVG\"></script><script type=\"text/javascript\">if (window.MathJax && window.MathJax.Hub && window.MathJax.Hub.Config) {window.MathJax.Hub.Config({SVG: {font: \"STIX-Web\"}});}</script>                <script type=\"text/javascript\">window.PlotlyConfig = {MathJaxConfig: 'local'};</script>\n",
              "        <script charset=\"utf-8\" src=\"https://cdn.plot.ly/plotly-2.24.1.min.js\"></script>                <div id=\"466577de-1727-407d-bc02-dc5fe66f7848\" class=\"plotly-graph-div\" style=\"height:525px; width:100%;\"></div>            <script type=\"text/javascript\">                                    window.PLOTLYENV=window.PLOTLYENV || {};                                    if (document.getElementById(\"466577de-1727-407d-bc02-dc5fe66f7848\")) {                    Plotly.newPlot(                        \"466577de-1727-407d-bc02-dc5fe66f7848\",                        [{\"alignmentgroup\":\"True\",\"hovertemplate\":\"color=F1 Score KNN\\u003cbr\\u003eCategor\\u00edas=%{x}\\u003cbr\\u003eValores=%{text}\\u003cextra\\u003e\\u003c\\u002fextra\\u003e\",\"legendgroup\":\"F1 Score KNN\",\"marker\":{\"color\":\"#636efa\",\"pattern\":{\"shape\":\"\"}},\"name\":\"F1 Score KNN\",\"offsetgroup\":\"F1 Score KNN\",\"orientation\":\"v\",\"showlegend\":true,\"text\":[0.6538461538461539],\"textposition\":\"auto\",\"x\":[\"F1 Score KNN\"],\"xaxis\":\"x\",\"y\":[0.6538461538461539],\"yaxis\":\"y\",\"type\":\"bar\"},{\"alignmentgroup\":\"True\",\"hovertemplate\":\"color=F1 Score SVM\\u003cbr\\u003eCategor\\u00edas=%{x}\\u003cbr\\u003eValores=%{text}\\u003cextra\\u003e\\u003c\\u002fextra\\u003e\",\"legendgroup\":\"F1 Score SVM\",\"marker\":{\"color\":\"#EF553B\",\"pattern\":{\"shape\":\"\"}},\"name\":\"F1 Score SVM\",\"offsetgroup\":\"F1 Score SVM\",\"orientation\":\"v\",\"showlegend\":true,\"text\":[0.6975476839237057],\"textposition\":\"auto\",\"x\":[\"F1 Score SVM\"],\"xaxis\":\"x\",\"y\":[0.6975476839237057],\"yaxis\":\"y\",\"type\":\"bar\"},{\"alignmentgroup\":\"True\",\"hovertemplate\":\"color=Decision Tree F1 Score\\u003cbr\\u003eCategor\\u00edas=%{x}\\u003cbr\\u003eValores=%{text}\\u003cextra\\u003e\\u003c\\u002fextra\\u003e\",\"legendgroup\":\"Decision Tree F1 Score\",\"marker\":{\"color\":\"#00cc96\",\"pattern\":{\"shape\":\"\"}},\"name\":\"Decision Tree F1 Score\",\"offsetgroup\":\"Decision Tree F1 Score\",\"orientation\":\"v\",\"showlegend\":true,\"text\":[0.6731234866828087],\"textposition\":\"auto\",\"x\":[\"Decision Tree F1 Score\"],\"xaxis\":\"x\",\"y\":[0.6731234866828087],\"yaxis\":\"y\",\"type\":\"bar\"},{\"alignmentgroup\":\"True\",\"hovertemplate\":\"color=Naive Bayes F1 Score\\u003cbr\\u003eCategor\\u00edas=%{x}\\u003cbr\\u003eValores=%{text}\\u003cextra\\u003e\\u003c\\u002fextra\\u003e\",\"legendgroup\":\"Naive Bayes F1 Score\",\"marker\":{\"color\":\"#ab63fa\",\"pattern\":{\"shape\":\"\"}},\"name\":\"Naive Bayes F1 Score\",\"offsetgroup\":\"Naive Bayes F1 Score\",\"orientation\":\"v\",\"showlegend\":true,\"text\":[0.6138107416879796],\"textposition\":\"auto\",\"x\":[\"Naive Bayes F1 Score\"],\"xaxis\":\"x\",\"y\":[0.6138107416879796],\"yaxis\":\"y\",\"type\":\"bar\"},{\"alignmentgroup\":\"True\",\"hovertemplate\":\"color=F1 Score Ensamble\\u003cbr\\u003eCategor\\u00edas=%{x}\\u003cbr\\u003eValores=%{text}\\u003cextra\\u003e\\u003c\\u002fextra\\u003e\",\"legendgroup\":\"F1 Score Ensamble\",\"marker\":{\"color\":\"#FFA15A\",\"pattern\":{\"shape\":\"\"}},\"name\":\"F1 Score Ensamble\",\"offsetgroup\":\"F1 Score Ensamble\",\"orientation\":\"v\",\"showlegend\":true,\"text\":[0.6392961876832844],\"textposition\":\"auto\",\"x\":[\"F1 Score Ensamble\"],\"xaxis\":\"x\",\"y\":[0.6392961876832844],\"yaxis\":\"y\",\"type\":\"bar\"},{\"alignmentgroup\":\"True\",\"hovertemplate\":\"color=Best KNN F1 Score\\u003cbr\\u003eCategor\\u00edas=%{x}\\u003cbr\\u003eValores=%{text}\\u003cextra\\u003e\\u003c\\u002fextra\\u003e\",\"legendgroup\":\"Best KNN F1 Score\",\"marker\":{\"color\":\"#19d3f3\",\"pattern\":{\"shape\":\"\"}},\"name\":\"Best KNN F1 Score\",\"offsetgroup\":\"Best KNN F1 Score\",\"orientation\":\"v\",\"showlegend\":true,\"text\":[0.6571428571428571],\"textposition\":\"auto\",\"x\":[\"Best KNN F1 Score\"],\"xaxis\":\"x\",\"y\":[0.6571428571428571],\"yaxis\":\"y\",\"type\":\"bar\"},{\"alignmentgroup\":\"True\",\"hovertemplate\":\"color=Best SVM F1 Score Grid Search\\u003cbr\\u003eCategor\\u00edas=%{x}\\u003cbr\\u003eValores=%{text}\\u003cextra\\u003e\\u003c\\u002fextra\\u003e\",\"legendgroup\":\"Best SVM F1 Score Grid Search\",\"marker\":{\"color\":\"#FF6692\",\"pattern\":{\"shape\":\"\"}},\"name\":\"Best SVM F1 Score Grid Search\",\"offsetgroup\":\"Best SVM F1 Score Grid Search\",\"orientation\":\"v\",\"showlegend\":true,\"text\":[0.5775075987841946],\"textposition\":\"auto\",\"x\":[\"Best SVM F1 Score Grid Search\"],\"xaxis\":\"x\",\"y\":[0.5775075987841946],\"yaxis\":\"y\",\"type\":\"bar\"},{\"alignmentgroup\":\"True\",\"hovertemplate\":\"color=Best SVM F1 Score Random Search\\u003cbr\\u003eCategor\\u00edas=%{x}\\u003cbr\\u003eValores=%{text}\\u003cextra\\u003e\\u003c\\u002fextra\\u003e\",\"legendgroup\":\"Best SVM F1 Score Random Search\",\"marker\":{\"color\":\"#B6E880\",\"pattern\":{\"shape\":\"\"}},\"name\":\"Best SVM F1 Score Random Search\",\"offsetgroup\":\"Best SVM F1 Score Random Search\",\"orientation\":\"v\",\"showlegend\":true,\"text\":[0.7156862745098039],\"textposition\":\"auto\",\"x\":[\"Best SVM F1 Score Random Search\"],\"xaxis\":\"x\",\"y\":[0.7156862745098039],\"yaxis\":\"y\",\"type\":\"bar\"},{\"alignmentgroup\":\"True\",\"hovertemplate\":\"color=Best Decision Tree F1 SCORE\\u003cbr\\u003eCategor\\u00edas=%{x}\\u003cbr\\u003eValores=%{text}\\u003cextra\\u003e\\u003c\\u002fextra\\u003e\",\"legendgroup\":\"Best Decision Tree F1 SCORE\",\"marker\":{\"color\":\"#FF97FF\",\"pattern\":{\"shape\":\"\"}},\"name\":\"Best Decision Tree F1 SCORE\",\"offsetgroup\":\"Best Decision Tree F1 SCORE\",\"orientation\":\"v\",\"showlegend\":true,\"text\":[0.7272727272727272],\"textposition\":\"auto\",\"x\":[\"Best Decision Tree F1 SCORE\"],\"xaxis\":\"x\",\"y\":[0.7272727272727272],\"yaxis\":\"y\",\"type\":\"bar\"},{\"alignmentgroup\":\"True\",\"hovertemplate\":\"color=BEST Naive Bayes F1 Score\\u003cbr\\u003eCategor\\u00edas=%{x}\\u003cbr\\u003eValores=%{text}\\u003cextra\\u003e\\u003c\\u002fextra\\u003e\",\"legendgroup\":\"BEST Naive Bayes F1 Score\",\"marker\":{\"color\":\"#FECB52\",\"pattern\":{\"shape\":\"\"}},\"name\":\"BEST Naive Bayes F1 Score\",\"offsetgroup\":\"BEST Naive Bayes F1 Score\",\"orientation\":\"v\",\"showlegend\":true,\"text\":[0.6138107416879796],\"textposition\":\"auto\",\"x\":[\"BEST Naive Bayes F1 Score\"],\"xaxis\":\"x\",\"y\":[0.6138107416879796],\"yaxis\":\"y\",\"type\":\"bar\"}],                        {\"template\":{\"data\":{\"histogram2dcontour\":[{\"type\":\"histogram2dcontour\",\"colorbar\":{\"outlinewidth\":0,\"ticks\":\"\"},\"colorscale\":[[0.0,\"#0d0887\"],[0.1111111111111111,\"#46039f\"],[0.2222222222222222,\"#7201a8\"],[0.3333333333333333,\"#9c179e\"],[0.4444444444444444,\"#bd3786\"],[0.5555555555555556,\"#d8576b\"],[0.6666666666666666,\"#ed7953\"],[0.7777777777777778,\"#fb9f3a\"],[0.8888888888888888,\"#fdca26\"],[1.0,\"#f0f921\"]]}],\"choropleth\":[{\"type\":\"choropleth\",\"colorbar\":{\"outlinewidth\":0,\"ticks\":\"\"}}],\"histogram2d\":[{\"type\":\"histogram2d\",\"colorbar\":{\"outlinewidth\":0,\"ticks\":\"\"},\"colorscale\":[[0.0,\"#0d0887\"],[0.1111111111111111,\"#46039f\"],[0.2222222222222222,\"#7201a8\"],[0.3333333333333333,\"#9c179e\"],[0.4444444444444444,\"#bd3786\"],[0.5555555555555556,\"#d8576b\"],[0.6666666666666666,\"#ed7953\"],[0.7777777777777778,\"#fb9f3a\"],[0.8888888888888888,\"#fdca26\"],[1.0,\"#f0f921\"]]}],\"heatmap\":[{\"type\":\"heatmap\",\"colorbar\":{\"outlinewidth\":0,\"ticks\":\"\"},\"colorscale\":[[0.0,\"#0d0887\"],[0.1111111111111111,\"#46039f\"],[0.2222222222222222,\"#7201a8\"],[0.3333333333333333,\"#9c179e\"],[0.4444444444444444,\"#bd3786\"],[0.5555555555555556,\"#d8576b\"],[0.6666666666666666,\"#ed7953\"],[0.7777777777777778,\"#fb9f3a\"],[0.8888888888888888,\"#fdca26\"],[1.0,\"#f0f921\"]]}],\"heatmapgl\":[{\"type\":\"heatmapgl\",\"colorbar\":{\"outlinewidth\":0,\"ticks\":\"\"},\"colorscale\":[[0.0,\"#0d0887\"],[0.1111111111111111,\"#46039f\"],[0.2222222222222222,\"#7201a8\"],[0.3333333333333333,\"#9c179e\"],[0.4444444444444444,\"#bd3786\"],[0.5555555555555556,\"#d8576b\"],[0.6666666666666666,\"#ed7953\"],[0.7777777777777778,\"#fb9f3a\"],[0.8888888888888888,\"#fdca26\"],[1.0,\"#f0f921\"]]}],\"contourcarpet\":[{\"type\":\"contourcarpet\",\"colorbar\":{\"outlinewidth\":0,\"ticks\":\"\"}}],\"contour\":[{\"type\":\"contour\",\"colorbar\":{\"outlinewidth\":0,\"ticks\":\"\"},\"colorscale\":[[0.0,\"#0d0887\"],[0.1111111111111111,\"#46039f\"],[0.2222222222222222,\"#7201a8\"],[0.3333333333333333,\"#9c179e\"],[0.4444444444444444,\"#bd3786\"],[0.5555555555555556,\"#d8576b\"],[0.6666666666666666,\"#ed7953\"],[0.7777777777777778,\"#fb9f3a\"],[0.8888888888888888,\"#fdca26\"],[1.0,\"#f0f921\"]]}],\"surface\":[{\"type\":\"surface\",\"colorbar\":{\"outlinewidth\":0,\"ticks\":\"\"},\"colorscale\":[[0.0,\"#0d0887\"],[0.1111111111111111,\"#46039f\"],[0.2222222222222222,\"#7201a8\"],[0.3333333333333333,\"#9c179e\"],[0.4444444444444444,\"#bd3786\"],[0.5555555555555556,\"#d8576b\"],[0.6666666666666666,\"#ed7953\"],[0.7777777777777778,\"#fb9f3a\"],[0.8888888888888888,\"#fdca26\"],[1.0,\"#f0f921\"]]}],\"mesh3d\":[{\"type\":\"mesh3d\",\"colorbar\":{\"outlinewidth\":0,\"ticks\":\"\"}}],\"scatter\":[{\"fillpattern\":{\"fillmode\":\"overlay\",\"size\":10,\"solidity\":0.2},\"type\":\"scatter\"}],\"parcoords\":[{\"type\":\"parcoords\",\"line\":{\"colorbar\":{\"outlinewidth\":0,\"ticks\":\"\"}}}],\"scatterpolargl\":[{\"type\":\"scatterpolargl\",\"marker\":{\"colorbar\":{\"outlinewidth\":0,\"ticks\":\"\"}}}],\"bar\":[{\"error_x\":{\"color\":\"#2a3f5f\"},\"error_y\":{\"color\":\"#2a3f5f\"},\"marker\":{\"line\":{\"color\":\"#E5ECF6\",\"width\":0.5},\"pattern\":{\"fillmode\":\"overlay\",\"size\":10,\"solidity\":0.2}},\"type\":\"bar\"}],\"scattergeo\":[{\"type\":\"scattergeo\",\"marker\":{\"colorbar\":{\"outlinewidth\":0,\"ticks\":\"\"}}}],\"scatterpolar\":[{\"type\":\"scatterpolar\",\"marker\":{\"colorbar\":{\"outlinewidth\":0,\"ticks\":\"\"}}}],\"histogram\":[{\"marker\":{\"pattern\":{\"fillmode\":\"overlay\",\"size\":10,\"solidity\":0.2}},\"type\":\"histogram\"}],\"scattergl\":[{\"type\":\"scattergl\",\"marker\":{\"colorbar\":{\"outlinewidth\":0,\"ticks\":\"\"}}}],\"scatter3d\":[{\"type\":\"scatter3d\",\"line\":{\"colorbar\":{\"outlinewidth\":0,\"ticks\":\"\"}},\"marker\":{\"colorbar\":{\"outlinewidth\":0,\"ticks\":\"\"}}}],\"scattermapbox\":[{\"type\":\"scattermapbox\",\"marker\":{\"colorbar\":{\"outlinewidth\":0,\"ticks\":\"\"}}}],\"scatterternary\":[{\"type\":\"scatterternary\",\"marker\":{\"colorbar\":{\"outlinewidth\":0,\"ticks\":\"\"}}}],\"scattercarpet\":[{\"type\":\"scattercarpet\",\"marker\":{\"colorbar\":{\"outlinewidth\":0,\"ticks\":\"\"}}}],\"carpet\":[{\"aaxis\":{\"endlinecolor\":\"#2a3f5f\",\"gridcolor\":\"white\",\"linecolor\":\"white\",\"minorgridcolor\":\"white\",\"startlinecolor\":\"#2a3f5f\"},\"baxis\":{\"endlinecolor\":\"#2a3f5f\",\"gridcolor\":\"white\",\"linecolor\":\"white\",\"minorgridcolor\":\"white\",\"startlinecolor\":\"#2a3f5f\"},\"type\":\"carpet\"}],\"table\":[{\"cells\":{\"fill\":{\"color\":\"#EBF0F8\"},\"line\":{\"color\":\"white\"}},\"header\":{\"fill\":{\"color\":\"#C8D4E3\"},\"line\":{\"color\":\"white\"}},\"type\":\"table\"}],\"barpolar\":[{\"marker\":{\"line\":{\"color\":\"#E5ECF6\",\"width\":0.5},\"pattern\":{\"fillmode\":\"overlay\",\"size\":10,\"solidity\":0.2}},\"type\":\"barpolar\"}],\"pie\":[{\"automargin\":true,\"type\":\"pie\"}]},\"layout\":{\"autotypenumbers\":\"strict\",\"colorway\":[\"#636efa\",\"#EF553B\",\"#00cc96\",\"#ab63fa\",\"#FFA15A\",\"#19d3f3\",\"#FF6692\",\"#B6E880\",\"#FF97FF\",\"#FECB52\"],\"font\":{\"color\":\"#2a3f5f\"},\"hovermode\":\"closest\",\"hoverlabel\":{\"align\":\"left\"},\"paper_bgcolor\":\"white\",\"plot_bgcolor\":\"#E5ECF6\",\"polar\":{\"bgcolor\":\"#E5ECF6\",\"angularaxis\":{\"gridcolor\":\"white\",\"linecolor\":\"white\",\"ticks\":\"\"},\"radialaxis\":{\"gridcolor\":\"white\",\"linecolor\":\"white\",\"ticks\":\"\"}},\"ternary\":{\"bgcolor\":\"#E5ECF6\",\"aaxis\":{\"gridcolor\":\"white\",\"linecolor\":\"white\",\"ticks\":\"\"},\"baxis\":{\"gridcolor\":\"white\",\"linecolor\":\"white\",\"ticks\":\"\"},\"caxis\":{\"gridcolor\":\"white\",\"linecolor\":\"white\",\"ticks\":\"\"}},\"coloraxis\":{\"colorbar\":{\"outlinewidth\":0,\"ticks\":\"\"}},\"colorscale\":{\"sequential\":[[0.0,\"#0d0887\"],[0.1111111111111111,\"#46039f\"],[0.2222222222222222,\"#7201a8\"],[0.3333333333333333,\"#9c179e\"],[0.4444444444444444,\"#bd3786\"],[0.5555555555555556,\"#d8576b\"],[0.6666666666666666,\"#ed7953\"],[0.7777777777777778,\"#fb9f3a\"],[0.8888888888888888,\"#fdca26\"],[1.0,\"#f0f921\"]],\"sequentialminus\":[[0.0,\"#0d0887\"],[0.1111111111111111,\"#46039f\"],[0.2222222222222222,\"#7201a8\"],[0.3333333333333333,\"#9c179e\"],[0.4444444444444444,\"#bd3786\"],[0.5555555555555556,\"#d8576b\"],[0.6666666666666666,\"#ed7953\"],[0.7777777777777778,\"#fb9f3a\"],[0.8888888888888888,\"#fdca26\"],[1.0,\"#f0f921\"]],\"diverging\":[[0,\"#8e0152\"],[0.1,\"#c51b7d\"],[0.2,\"#de77ae\"],[0.3,\"#f1b6da\"],[0.4,\"#fde0ef\"],[0.5,\"#f7f7f7\"],[0.6,\"#e6f5d0\"],[0.7,\"#b8e186\"],[0.8,\"#7fbc41\"],[0.9,\"#4d9221\"],[1,\"#276419\"]]},\"xaxis\":{\"gridcolor\":\"white\",\"linecolor\":\"white\",\"ticks\":\"\",\"title\":{\"standoff\":15},\"zerolinecolor\":\"white\",\"automargin\":true,\"zerolinewidth\":2},\"yaxis\":{\"gridcolor\":\"white\",\"linecolor\":\"white\",\"ticks\":\"\",\"title\":{\"standoff\":15},\"zerolinecolor\":\"white\",\"automargin\":true,\"zerolinewidth\":2},\"scene\":{\"xaxis\":{\"backgroundcolor\":\"#E5ECF6\",\"gridcolor\":\"white\",\"linecolor\":\"white\",\"showbackground\":true,\"ticks\":\"\",\"zerolinecolor\":\"white\",\"gridwidth\":2},\"yaxis\":{\"backgroundcolor\":\"#E5ECF6\",\"gridcolor\":\"white\",\"linecolor\":\"white\",\"showbackground\":true,\"ticks\":\"\",\"zerolinecolor\":\"white\",\"gridwidth\":2},\"zaxis\":{\"backgroundcolor\":\"#E5ECF6\",\"gridcolor\":\"white\",\"linecolor\":\"white\",\"showbackground\":true,\"ticks\":\"\",\"zerolinecolor\":\"white\",\"gridwidth\":2}},\"shapedefaults\":{\"line\":{\"color\":\"#2a3f5f\"}},\"annotationdefaults\":{\"arrowcolor\":\"#2a3f5f\",\"arrowhead\":0,\"arrowwidth\":1},\"geo\":{\"bgcolor\":\"white\",\"landcolor\":\"#E5ECF6\",\"subunitcolor\":\"white\",\"showland\":true,\"showlakes\":true,\"lakecolor\":\"white\"},\"title\":{\"x\":0.05},\"mapbox\":{\"style\":\"light\"}}},\"xaxis\":{\"anchor\":\"y\",\"domain\":[0.0,1.0],\"title\":{\"text\":\"Categor\\u00edas\"}},\"yaxis\":{\"anchor\":\"x\",\"domain\":[0.0,1.0],\"title\":{\"text\":\"Valores\"}},\"legend\":{\"title\":{\"text\":\"color\"},\"tracegroupgap\":0},\"title\":{\"text\":\"Metricas F1 Score\"},\"barmode\":\"relative\"},                        {\"responsive\": true}                    ).then(function(){\n",
              "                            \n",
              "var gd = document.getElementById('466577de-1727-407d-bc02-dc5fe66f7848');\n",
              "var x = new MutationObserver(function (mutations, observer) {{\n",
              "        var display = window.getComputedStyle(gd).display;\n",
              "        if (!display || display === 'none') {{\n",
              "            console.log([gd, 'removed!']);\n",
              "            Plotly.purge(gd);\n",
              "            observer.disconnect();\n",
              "        }}\n",
              "}});\n",
              "\n",
              "// Listen for the removal of the full notebook cells\n",
              "var notebookContainer = gd.closest('#notebook-container');\n",
              "if (notebookContainer) {{\n",
              "    x.observe(notebookContainer, {childList: true});\n",
              "}}\n",
              "\n",
              "// Listen for the clearing of the current output cell\n",
              "var outputEl = gd.closest('.output');\n",
              "if (outputEl) {{\n",
              "    x.observe(outputEl, {childList: true});\n",
              "}}\n",
              "\n",
              "                        })                };                            </script>        </div>\n",
              "</body>\n",
              "</html>"
            ]
          },
          "metadata": {}
        }
      ]
    }
  ]
}